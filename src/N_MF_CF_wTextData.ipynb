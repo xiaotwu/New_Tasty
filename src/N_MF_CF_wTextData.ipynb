{
  "nbformat": 4,
  "nbformat_minor": 0,
  "metadata": {
    "colab": {
      "provenance": [],
      "gpuType": "T4"
    },
    "kernelspec": {
      "name": "python3",
      "display_name": "Python 3"
    },
    "language_info": {
      "name": "python"
    },
    "accelerator": "GPU"
  },
  "cells": [
    {
      "cell_type": "code",
      "execution_count": 1,
      "metadata": {
        "colab": {
          "base_uri": "https://localhost:8080/"
        },
        "id": "bbfp3-BesrHi",
        "outputId": "7eab7a4e-74c6-40fa-8cb7-0538708f2932"
      },
      "outputs": [
        {
          "output_type": "stream",
          "name": "stdout",
          "text": [
            "Mounted at /content/drive\n"
          ]
        }
      ],
      "source": [
        "from google.colab import drive\n",
        "drive.mount('/content/drive')"
      ]
    },
    {
      "cell_type": "code",
      "source": [
        "import pandas as pd\n",
        "from sklearn.preprocessing import LabelEncoder\n",
        "from sklearn.model_selection import train_test_split\n",
        "from sklearn.metrics import mean_absolute_error\n",
        "import tensorflow as tf\n",
        "from tensorflow.keras.layers import Input, Embedding, Flatten\n",
        "from tensorflow.keras.models import Model\n",
        "from tensorflow.keras.layers import Input, Embedding, Flatten, Dot, Add, Dense, Dropout, Concatenate\n",
        "from tensorflow.keras.regularizers import l2\n",
        "from tensorflow.keras.layers import Dropout\n",
        "import numpy as np"
      ],
      "metadata": {
        "id": "0GJM3OxSruu0"
      },
      "execution_count": 26,
      "outputs": []
    },
    {
      "cell_type": "markdown",
      "source": [
        "## Load Data"
      ],
      "metadata": {
        "id": "jEwZV1ZcrzNs"
      }
    },
    {
      "cell_type": "code",
      "source": [
        "import json\n",
        "\n",
        "def load_data_from_json(filepath):\n",
        "  \"\"\"Loads data from a JSON file.\n",
        "\n",
        "  Args:\n",
        "    filepath: The path to the JSON file.\n",
        "\n",
        "  Returns:\n",
        "    A dictionary containing the data loaded from the JSON file,\n",
        "    or None if an error occurs.\n",
        "  \"\"\"\n",
        "  try:\n",
        "    with open(filepath, 'r') as file:\n",
        "      data = json.load(file)\n",
        "    return data\n",
        "  except FileNotFoundError:\n",
        "    print(f\"Error: File not found at {filepath}\")\n",
        "    return None\n",
        "  except json.JSONDecodeError:\n",
        "    print(f\"Error: Invalid JSON format in {filepath}\")\n",
        "    return None"
      ],
      "metadata": {
        "id": "pL4iQzQrrhQr"
      },
      "execution_count": 3,
      "outputs": []
    },
    {
      "cell_type": "code",
      "source": [
        "data = load_data_from_json('/content/drive/MyDrive/CMPE256_COPY/dataset/filter_all_t.json')\n",
        "\n",
        "# Check if data is loaded successfully\n",
        "if data:\n",
        "    # Assuming 'train' key contains the desired data\n",
        "    if 'train' in data and isinstance(data['train'], list):\n",
        "        df = pd.DataFrame(data['train'])  # Create DataFrame from 'train' list\n",
        "        print(df.head())\n",
        "    else:\n",
        "        print(\"Error: 'train' key not found or not a list in the JSON data.\")\n",
        "else:\n",
        "    print(\"Error: Data not loaded from JSON file.\")"
      ],
      "metadata": {
        "colab": {
          "base_uri": "https://localhost:8080/"
        },
        "id": "BZsmUuXzsvuS",
        "outputId": "3d9b8166-ee71-4c53-8e0b-c7df481b12fa"
      },
      "execution_count": 4,
      "outputs": [
        {
          "output_type": "stream",
          "name": "stdout",
          "text": [
            "                business_id                user_id  rating  \\\n",
            "0  60567465d335d0abfb415b26  101074926318992653684       4   \n",
            "1  6050fa9f5b4ccec8d5cae994  117065749986299237881       5   \n",
            "2  604be10877e81aaed3cc9a1e  106700937793048450809       4   \n",
            "3  60411e017cd8bf130362365a  101643045857250355161       5   \n",
            "4  604139dd7cd8bf1303624208  109802745326785766951       4   \n",
            "\n",
            "                                         review_text  \\\n",
            "0  The tang of the tomato sauce is outstanding. A...   \n",
            "1              Chicken and waffles were really good!   \n",
            "2  The appetizer of colossal shrimp was very good...   \n",
            "3  The fish tacos here  omg! The salad was great ...   \n",
            "4  Ribs are great, as are the mac and cheese, fri...   \n",
            "\n",
            "                                                pics  \\\n",
            "0  [AF1QipM-2IRmvitARbcJr7deWfe5hyVBg_ArPMQSYvq0,...   \n",
            "1     [AF1QipMpfxIZUT_aymQ3qPGO-QgGYzxbtLZGmHufAp2s]   \n",
            "2  [AF1QipMNnqM5X9sSyZ9pXRZ1jvrURHN9bZhGdzuEXoP8,...   \n",
            "3  [AF1QipM-a6AGGp4Hgk5RD0gY5sDRp5kEfB1hZLvlRkft,...   \n",
            "4     [AF1QipNVys4yq-5w_3EsDdHpSc9ZNb7Nl30Mfb6Y0Gup]   \n",
            "\n",
            "                                     history_reviews  \n",
            "0  [[101074926318992653684_6056272797d555cc6fb0d1...  \n",
            "1  [[117065749986299237881_605206f8d8c08f462b93e8...  \n",
            "2  [[106700937793048450809_6044300b27f39b7b5d1dbf...  \n",
            "3  [[101643045857250355161_604fbdd099686c10168c91...  \n",
            "4  [[109802745326785766951_60524fa9f09a4ffff042f9...  \n"
          ]
        }
      ]
    },
    {
      "cell_type": "code",
      "source": [
        "df.keys()"
      ],
      "metadata": {
        "colab": {
          "base_uri": "https://localhost:8080/"
        },
        "id": "kq3Ge4FksxYa",
        "outputId": "aaa6aef7-901f-4ff8-ce40-92664ecc15b9"
      },
      "execution_count": 5,
      "outputs": [
        {
          "output_type": "execute_result",
          "data": {
            "text/plain": [
              "Index(['business_id', 'user_id', 'rating', 'review_text', 'pics',\n",
              "       'history_reviews'],\n",
              "      dtype='object')"
            ]
          },
          "metadata": {},
          "execution_count": 5
        }
      ]
    },
    {
      "cell_type": "code",
      "source": [
        "max_rating = df['rating'].max()\n",
        "print(f\"The maximum rating in the dataset is: {max_rating}\")"
      ],
      "metadata": {
        "colab": {
          "base_uri": "https://localhost:8080/"
        },
        "id": "VNN0MDUBtRrO",
        "outputId": "3d4a50e7-8cea-4494-dd05-14e94125ec08"
      },
      "execution_count": 6,
      "outputs": [
        {
          "output_type": "stream",
          "name": "stdout",
          "text": [
            "The maximum rating in the dataset is: 5\n"
          ]
        }
      ]
    },
    {
      "cell_type": "code",
      "source": [
        "min_rating = df['rating'].min()\n",
        "print(f\"The minimum rating in the dataset is: {min_rating}\")"
      ],
      "metadata": {
        "colab": {
          "base_uri": "https://localhost:8080/"
        },
        "id": "Juu9pfu1tViE",
        "outputId": "226f6193-42a8-41f4-de9c-64c9b3b3298d"
      },
      "execution_count": 7,
      "outputs": [
        {
          "output_type": "stream",
          "name": "stdout",
          "text": [
            "The minimum rating in the dataset is: 1\n"
          ]
        }
      ]
    },
    {
      "cell_type": "code",
      "source": [
        "unique_user_ids = df['user_id'].nunique()\n",
        "total_user_ids = len(df['user_id'])\n",
        "print(f\"Total number of User IDs: {total_user_ids}\")\n",
        "print(f\"Number of unique User IDs: {unique_user_ids}\")"
      ],
      "metadata": {
        "colab": {
          "base_uri": "https://localhost:8080/"
        },
        "id": "YQjBxTottXfo",
        "outputId": "13b64296-533d-41e2-9fde-a3f4ae63d2b0"
      },
      "execution_count": 8,
      "outputs": [
        {
          "output_type": "stream",
          "name": "stdout",
          "text": [
            "Total number of User IDs: 87013\n",
            "Number of unique User IDs: 29596\n"
          ]
        }
      ]
    },
    {
      "cell_type": "code",
      "source": [
        "unique_business_ids = df['business_id'].nunique()\n",
        "total_business_ids = len(df['business_id'])\n",
        "print(f\"Total number of Business IDs: {total_business_ids}\")\n",
        "print(f\"Number of unique Business IDs: {unique_business_ids}\")"
      ],
      "metadata": {
        "colab": {
          "base_uri": "https://localhost:8080/"
        },
        "id": "EY18DSKjtb5F",
        "outputId": "b911b515-706a-447f-bbac-b957f0bfc849"
      },
      "execution_count": 9,
      "outputs": [
        {
          "output_type": "stream",
          "name": "stdout",
          "text": [
            "Total number of Business IDs: 87013\n",
            "Number of unique Business IDs: 27896\n"
          ]
        }
      ]
    },
    {
      "cell_type": "code",
      "source": [
        "#preprocess review_text into embeddings\n",
        "from sklearn.feature_extraction.text import TfidfVectorizer\n",
        "from sklearn.decomposition import TruncatedSVD\n",
        "\n",
        "# 1A) Fill any NAs\n",
        "df['review_text'] = df['review_text'].fillna('')\n",
        "\n",
        "# 1B) Compute a TF-IDF matrix (n_samples × vocab_size)\n",
        "tfidf = TfidfVectorizer(max_features=5_000, stop_words='english')\n",
        "X_tfidf = tfidf.fit_transform(df['review_text'])\n",
        "\n",
        "# 1C) Reduce to a dense 64-dim embedding per review\n",
        "svd = TruncatedSVD(n_components=64, random_state=42)\n",
        "text_emb = svd.fit_transform(X_tfidf)\n",
        "\n",
        "# 1D) Attach those 64 dims back to your DataFrame\n",
        "text_cols = [f'text_emb_{i}' for i in range(64)]\n",
        "df_text = pd.DataFrame(text_emb, columns=text_cols, index=df.index)\n",
        "df = pd.concat([df, df_text], axis=1)"
      ],
      "metadata": {
        "id": "IyTCgnEydIsL"
      },
      "execution_count": 10,
      "outputs": []
    },
    {
      "cell_type": "markdown",
      "source": [
        "## Matrix Factorization Collaborative Filtering"
      ],
      "metadata": {
        "id": "SNXcamKPtt6o"
      }
    },
    {
      "cell_type": "code",
      "source": [
        "'''\n",
        "Encoding user_id and business_id in df\n",
        "'''\n",
        "\n",
        "# Separate encoders\n",
        "user_encoder = LabelEncoder()\n",
        "business_encoder = LabelEncoder()\n",
        "\n",
        "# Fit on training data only\n",
        "df['user_id_encoded'] = user_encoder.fit_transform(df['user_id'])\n",
        "df['business_id_encoded'] = business_encoder.fit_transform(df['business_id'])"
      ],
      "metadata": {
        "id": "1Zz46-DCtoab"
      },
      "execution_count": 11,
      "outputs": []
    },
    {
      "cell_type": "code",
      "source": [
        "# Normalize\n",
        "df['rating_normalized'] = (df['rating'] -min_rating)/(max_rating - min_rating)"
      ],
      "metadata": {
        "id": "gJz1cdeduDj1"
      },
      "execution_count": 12,
      "outputs": []
    },
    {
      "cell_type": "code",
      "source": [
        "df.head()"
      ],
      "metadata": {
        "colab": {
          "base_uri": "https://localhost:8080/",
          "height": 516
        },
        "id": "Q_vnsd9fuUeM",
        "outputId": "fadb4ee7-c68e-40ce-d6bf-5284b94cc9df"
      },
      "execution_count": 13,
      "outputs": [
        {
          "output_type": "execute_result",
          "data": {
            "text/plain": [
              "                business_id                user_id  rating  \\\n",
              "0  60567465d335d0abfb415b26  101074926318992653684       4   \n",
              "1  6050fa9f5b4ccec8d5cae994  117065749986299237881       5   \n",
              "2  604be10877e81aaed3cc9a1e  106700937793048450809       4   \n",
              "3  60411e017cd8bf130362365a  101643045857250355161       5   \n",
              "4  604139dd7cd8bf1303624208  109802745326785766951       4   \n",
              "\n",
              "                                         review_text  \\\n",
              "0  The tang of the tomato sauce is outstanding. A...   \n",
              "1              Chicken and waffles were really good!   \n",
              "2  The appetizer of colossal shrimp was very good...   \n",
              "3  The fish tacos here  omg! The salad was great ...   \n",
              "4  Ribs are great, as are the mac and cheese, fri...   \n",
              "\n",
              "                                                pics  \\\n",
              "0  [AF1QipM-2IRmvitARbcJr7deWfe5hyVBg_ArPMQSYvq0,...   \n",
              "1     [AF1QipMpfxIZUT_aymQ3qPGO-QgGYzxbtLZGmHufAp2s]   \n",
              "2  [AF1QipMNnqM5X9sSyZ9pXRZ1jvrURHN9bZhGdzuEXoP8,...   \n",
              "3  [AF1QipM-a6AGGp4Hgk5RD0gY5sDRp5kEfB1hZLvlRkft,...   \n",
              "4     [AF1QipNVys4yq-5w_3EsDdHpSc9ZNb7Nl30Mfb6Y0Gup]   \n",
              "\n",
              "                                     history_reviews  text_emb_0  text_emb_1  \\\n",
              "0  [[101074926318992653684_6056272797d555cc6fb0d1...    0.090685    0.028812   \n",
              "1  [[117065749986299237881_605206f8d8c08f462b93e8...    0.319936   -0.117113   \n",
              "2  [[106700937793048450809_6044300b27f39b7b5d1dbf...    0.203961   -0.036089   \n",
              "3  [[101643045857250355161_604fbdd099686c10168c91...    0.203980    0.001087   \n",
              "4  [[109802745326785766951_60524fa9f09a4ffff042f9...    0.174151   -0.025524   \n",
              "\n",
              "   text_emb_2  text_emb_3  ...  text_emb_57  text_emb_58  text_emb_59  \\\n",
              "0   -0.020918   -0.015585  ...     0.064262    -0.088032    -0.012349   \n",
              "1   -0.174905    0.246191  ...     0.003411     0.076694    -0.081512   \n",
              "2   -0.021253    0.042145  ...     0.003738    -0.011642     0.008768   \n",
              "3   -0.039955    0.030524  ...    -0.008188     0.016564    -0.040966   \n",
              "4    0.100808   -0.053062  ...     0.085499    -0.009104     0.116744   \n",
              "\n",
              "   text_emb_60  text_emb_61  text_emb_62  text_emb_63  user_id_encoded  \\\n",
              "0    -0.017169     0.009698     0.011253    -0.069798             1854   \n",
              "1    -0.033307     0.075623    -0.132462    -0.135888            27375   \n",
              "2    -0.011292     0.003472     0.010374     0.008503            10822   \n",
              "3    -0.001074    -0.021022    -0.031655    -0.012074             2779   \n",
              "4    -0.129016     0.053597    -0.008909     0.007128            15813   \n",
              "\n",
              "   business_id_encoded  rating_normalized  \n",
              "0                26649               0.75  \n",
              "1                19273               1.00  \n",
              "2                13238               0.75  \n",
              "3                  569               1.00  \n",
              "4                  667               0.75  \n",
              "\n",
              "[5 rows x 73 columns]"
            ],
            "text/html": [
              "\n",
              "  <div id=\"df-46c49888-ffd8-4811-b4f7-158f0494f166\" class=\"colab-df-container\">\n",
              "    <div>\n",
              "<style scoped>\n",
              "    .dataframe tbody tr th:only-of-type {\n",
              "        vertical-align: middle;\n",
              "    }\n",
              "\n",
              "    .dataframe tbody tr th {\n",
              "        vertical-align: top;\n",
              "    }\n",
              "\n",
              "    .dataframe thead th {\n",
              "        text-align: right;\n",
              "    }\n",
              "</style>\n",
              "<table border=\"1\" class=\"dataframe\">\n",
              "  <thead>\n",
              "    <tr style=\"text-align: right;\">\n",
              "      <th></th>\n",
              "      <th>business_id</th>\n",
              "      <th>user_id</th>\n",
              "      <th>rating</th>\n",
              "      <th>review_text</th>\n",
              "      <th>pics</th>\n",
              "      <th>history_reviews</th>\n",
              "      <th>text_emb_0</th>\n",
              "      <th>text_emb_1</th>\n",
              "      <th>text_emb_2</th>\n",
              "      <th>text_emb_3</th>\n",
              "      <th>...</th>\n",
              "      <th>text_emb_57</th>\n",
              "      <th>text_emb_58</th>\n",
              "      <th>text_emb_59</th>\n",
              "      <th>text_emb_60</th>\n",
              "      <th>text_emb_61</th>\n",
              "      <th>text_emb_62</th>\n",
              "      <th>text_emb_63</th>\n",
              "      <th>user_id_encoded</th>\n",
              "      <th>business_id_encoded</th>\n",
              "      <th>rating_normalized</th>\n",
              "    </tr>\n",
              "  </thead>\n",
              "  <tbody>\n",
              "    <tr>\n",
              "      <th>0</th>\n",
              "      <td>60567465d335d0abfb415b26</td>\n",
              "      <td>101074926318992653684</td>\n",
              "      <td>4</td>\n",
              "      <td>The tang of the tomato sauce is outstanding. A...</td>\n",
              "      <td>[AF1QipM-2IRmvitARbcJr7deWfe5hyVBg_ArPMQSYvq0,...</td>\n",
              "      <td>[[101074926318992653684_6056272797d555cc6fb0d1...</td>\n",
              "      <td>0.090685</td>\n",
              "      <td>0.028812</td>\n",
              "      <td>-0.020918</td>\n",
              "      <td>-0.015585</td>\n",
              "      <td>...</td>\n",
              "      <td>0.064262</td>\n",
              "      <td>-0.088032</td>\n",
              "      <td>-0.012349</td>\n",
              "      <td>-0.017169</td>\n",
              "      <td>0.009698</td>\n",
              "      <td>0.011253</td>\n",
              "      <td>-0.069798</td>\n",
              "      <td>1854</td>\n",
              "      <td>26649</td>\n",
              "      <td>0.75</td>\n",
              "    </tr>\n",
              "    <tr>\n",
              "      <th>1</th>\n",
              "      <td>6050fa9f5b4ccec8d5cae994</td>\n",
              "      <td>117065749986299237881</td>\n",
              "      <td>5</td>\n",
              "      <td>Chicken and waffles were really good!</td>\n",
              "      <td>[AF1QipMpfxIZUT_aymQ3qPGO-QgGYzxbtLZGmHufAp2s]</td>\n",
              "      <td>[[117065749986299237881_605206f8d8c08f462b93e8...</td>\n",
              "      <td>0.319936</td>\n",
              "      <td>-0.117113</td>\n",
              "      <td>-0.174905</td>\n",
              "      <td>0.246191</td>\n",
              "      <td>...</td>\n",
              "      <td>0.003411</td>\n",
              "      <td>0.076694</td>\n",
              "      <td>-0.081512</td>\n",
              "      <td>-0.033307</td>\n",
              "      <td>0.075623</td>\n",
              "      <td>-0.132462</td>\n",
              "      <td>-0.135888</td>\n",
              "      <td>27375</td>\n",
              "      <td>19273</td>\n",
              "      <td>1.00</td>\n",
              "    </tr>\n",
              "    <tr>\n",
              "      <th>2</th>\n",
              "      <td>604be10877e81aaed3cc9a1e</td>\n",
              "      <td>106700937793048450809</td>\n",
              "      <td>4</td>\n",
              "      <td>The appetizer of colossal shrimp was very good...</td>\n",
              "      <td>[AF1QipMNnqM5X9sSyZ9pXRZ1jvrURHN9bZhGdzuEXoP8,...</td>\n",
              "      <td>[[106700937793048450809_6044300b27f39b7b5d1dbf...</td>\n",
              "      <td>0.203961</td>\n",
              "      <td>-0.036089</td>\n",
              "      <td>-0.021253</td>\n",
              "      <td>0.042145</td>\n",
              "      <td>...</td>\n",
              "      <td>0.003738</td>\n",
              "      <td>-0.011642</td>\n",
              "      <td>0.008768</td>\n",
              "      <td>-0.011292</td>\n",
              "      <td>0.003472</td>\n",
              "      <td>0.010374</td>\n",
              "      <td>0.008503</td>\n",
              "      <td>10822</td>\n",
              "      <td>13238</td>\n",
              "      <td>0.75</td>\n",
              "    </tr>\n",
              "    <tr>\n",
              "      <th>3</th>\n",
              "      <td>60411e017cd8bf130362365a</td>\n",
              "      <td>101643045857250355161</td>\n",
              "      <td>5</td>\n",
              "      <td>The fish tacos here  omg! The salad was great ...</td>\n",
              "      <td>[AF1QipM-a6AGGp4Hgk5RD0gY5sDRp5kEfB1hZLvlRkft,...</td>\n",
              "      <td>[[101643045857250355161_604fbdd099686c10168c91...</td>\n",
              "      <td>0.203980</td>\n",
              "      <td>0.001087</td>\n",
              "      <td>-0.039955</td>\n",
              "      <td>0.030524</td>\n",
              "      <td>...</td>\n",
              "      <td>-0.008188</td>\n",
              "      <td>0.016564</td>\n",
              "      <td>-0.040966</td>\n",
              "      <td>-0.001074</td>\n",
              "      <td>-0.021022</td>\n",
              "      <td>-0.031655</td>\n",
              "      <td>-0.012074</td>\n",
              "      <td>2779</td>\n",
              "      <td>569</td>\n",
              "      <td>1.00</td>\n",
              "    </tr>\n",
              "    <tr>\n",
              "      <th>4</th>\n",
              "      <td>604139dd7cd8bf1303624208</td>\n",
              "      <td>109802745326785766951</td>\n",
              "      <td>4</td>\n",
              "      <td>Ribs are great, as are the mac and cheese, fri...</td>\n",
              "      <td>[AF1QipNVys4yq-5w_3EsDdHpSc9ZNb7Nl30Mfb6Y0Gup]</td>\n",
              "      <td>[[109802745326785766951_60524fa9f09a4ffff042f9...</td>\n",
              "      <td>0.174151</td>\n",
              "      <td>-0.025524</td>\n",
              "      <td>0.100808</td>\n",
              "      <td>-0.053062</td>\n",
              "      <td>...</td>\n",
              "      <td>0.085499</td>\n",
              "      <td>-0.009104</td>\n",
              "      <td>0.116744</td>\n",
              "      <td>-0.129016</td>\n",
              "      <td>0.053597</td>\n",
              "      <td>-0.008909</td>\n",
              "      <td>0.007128</td>\n",
              "      <td>15813</td>\n",
              "      <td>667</td>\n",
              "      <td>0.75</td>\n",
              "    </tr>\n",
              "  </tbody>\n",
              "</table>\n",
              "<p>5 rows × 73 columns</p>\n",
              "</div>\n",
              "    <div class=\"colab-df-buttons\">\n",
              "\n",
              "  <div class=\"colab-df-container\">\n",
              "    <button class=\"colab-df-convert\" onclick=\"convertToInteractive('df-46c49888-ffd8-4811-b4f7-158f0494f166')\"\n",
              "            title=\"Convert this dataframe to an interactive table.\"\n",
              "            style=\"display:none;\">\n",
              "\n",
              "  <svg xmlns=\"http://www.w3.org/2000/svg\" height=\"24px\" viewBox=\"0 -960 960 960\">\n",
              "    <path d=\"M120-120v-720h720v720H120Zm60-500h600v-160H180v160Zm220 220h160v-160H400v160Zm0 220h160v-160H400v160ZM180-400h160v-160H180v160Zm440 0h160v-160H620v160ZM180-180h160v-160H180v160Zm440 0h160v-160H620v160Z\"/>\n",
              "  </svg>\n",
              "    </button>\n",
              "\n",
              "  <style>\n",
              "    .colab-df-container {\n",
              "      display:flex;\n",
              "      gap: 12px;\n",
              "    }\n",
              "\n",
              "    .colab-df-convert {\n",
              "      background-color: #E8F0FE;\n",
              "      border: none;\n",
              "      border-radius: 50%;\n",
              "      cursor: pointer;\n",
              "      display: none;\n",
              "      fill: #1967D2;\n",
              "      height: 32px;\n",
              "      padding: 0 0 0 0;\n",
              "      width: 32px;\n",
              "    }\n",
              "\n",
              "    .colab-df-convert:hover {\n",
              "      background-color: #E2EBFA;\n",
              "      box-shadow: 0px 1px 2px rgba(60, 64, 67, 0.3), 0px 1px 3px 1px rgba(60, 64, 67, 0.15);\n",
              "      fill: #174EA6;\n",
              "    }\n",
              "\n",
              "    .colab-df-buttons div {\n",
              "      margin-bottom: 4px;\n",
              "    }\n",
              "\n",
              "    [theme=dark] .colab-df-convert {\n",
              "      background-color: #3B4455;\n",
              "      fill: #D2E3FC;\n",
              "    }\n",
              "\n",
              "    [theme=dark] .colab-df-convert:hover {\n",
              "      background-color: #434B5C;\n",
              "      box-shadow: 0px 1px 3px 1px rgba(0, 0, 0, 0.15);\n",
              "      filter: drop-shadow(0px 1px 2px rgba(0, 0, 0, 0.3));\n",
              "      fill: #FFFFFF;\n",
              "    }\n",
              "  </style>\n",
              "\n",
              "    <script>\n",
              "      const buttonEl =\n",
              "        document.querySelector('#df-46c49888-ffd8-4811-b4f7-158f0494f166 button.colab-df-convert');\n",
              "      buttonEl.style.display =\n",
              "        google.colab.kernel.accessAllowed ? 'block' : 'none';\n",
              "\n",
              "      async function convertToInteractive(key) {\n",
              "        const element = document.querySelector('#df-46c49888-ffd8-4811-b4f7-158f0494f166');\n",
              "        const dataTable =\n",
              "          await google.colab.kernel.invokeFunction('convertToInteractive',\n",
              "                                                    [key], {});\n",
              "        if (!dataTable) return;\n",
              "\n",
              "        const docLinkHtml = 'Like what you see? Visit the ' +\n",
              "          '<a target=\"_blank\" href=https://colab.research.google.com/notebooks/data_table.ipynb>data table notebook</a>'\n",
              "          + ' to learn more about interactive tables.';\n",
              "        element.innerHTML = '';\n",
              "        dataTable['output_type'] = 'display_data';\n",
              "        await google.colab.output.renderOutput(dataTable, element);\n",
              "        const docLink = document.createElement('div');\n",
              "        docLink.innerHTML = docLinkHtml;\n",
              "        element.appendChild(docLink);\n",
              "      }\n",
              "    </script>\n",
              "  </div>\n",
              "\n",
              "\n",
              "    <div id=\"df-5e677d76-3a15-49e5-bafa-a540bf36e6a2\">\n",
              "      <button class=\"colab-df-quickchart\" onclick=\"quickchart('df-5e677d76-3a15-49e5-bafa-a540bf36e6a2')\"\n",
              "                title=\"Suggest charts\"\n",
              "                style=\"display:none;\">\n",
              "\n",
              "<svg xmlns=\"http://www.w3.org/2000/svg\" height=\"24px\"viewBox=\"0 0 24 24\"\n",
              "     width=\"24px\">\n",
              "    <g>\n",
              "        <path d=\"M19 3H5c-1.1 0-2 .9-2 2v14c0 1.1.9 2 2 2h14c1.1 0 2-.9 2-2V5c0-1.1-.9-2-2-2zM9 17H7v-7h2v7zm4 0h-2V7h2v10zm4 0h-2v-4h2v4z\"/>\n",
              "    </g>\n",
              "</svg>\n",
              "      </button>\n",
              "\n",
              "<style>\n",
              "  .colab-df-quickchart {\n",
              "      --bg-color: #E8F0FE;\n",
              "      --fill-color: #1967D2;\n",
              "      --hover-bg-color: #E2EBFA;\n",
              "      --hover-fill-color: #174EA6;\n",
              "      --disabled-fill-color: #AAA;\n",
              "      --disabled-bg-color: #DDD;\n",
              "  }\n",
              "\n",
              "  [theme=dark] .colab-df-quickchart {\n",
              "      --bg-color: #3B4455;\n",
              "      --fill-color: #D2E3FC;\n",
              "      --hover-bg-color: #434B5C;\n",
              "      --hover-fill-color: #FFFFFF;\n",
              "      --disabled-bg-color: #3B4455;\n",
              "      --disabled-fill-color: #666;\n",
              "  }\n",
              "\n",
              "  .colab-df-quickchart {\n",
              "    background-color: var(--bg-color);\n",
              "    border: none;\n",
              "    border-radius: 50%;\n",
              "    cursor: pointer;\n",
              "    display: none;\n",
              "    fill: var(--fill-color);\n",
              "    height: 32px;\n",
              "    padding: 0;\n",
              "    width: 32px;\n",
              "  }\n",
              "\n",
              "  .colab-df-quickchart:hover {\n",
              "    background-color: var(--hover-bg-color);\n",
              "    box-shadow: 0 1px 2px rgba(60, 64, 67, 0.3), 0 1px 3px 1px rgba(60, 64, 67, 0.15);\n",
              "    fill: var(--button-hover-fill-color);\n",
              "  }\n",
              "\n",
              "  .colab-df-quickchart-complete:disabled,\n",
              "  .colab-df-quickchart-complete:disabled:hover {\n",
              "    background-color: var(--disabled-bg-color);\n",
              "    fill: var(--disabled-fill-color);\n",
              "    box-shadow: none;\n",
              "  }\n",
              "\n",
              "  .colab-df-spinner {\n",
              "    border: 2px solid var(--fill-color);\n",
              "    border-color: transparent;\n",
              "    border-bottom-color: var(--fill-color);\n",
              "    animation:\n",
              "      spin 1s steps(1) infinite;\n",
              "  }\n",
              "\n",
              "  @keyframes spin {\n",
              "    0% {\n",
              "      border-color: transparent;\n",
              "      border-bottom-color: var(--fill-color);\n",
              "      border-left-color: var(--fill-color);\n",
              "    }\n",
              "    20% {\n",
              "      border-color: transparent;\n",
              "      border-left-color: var(--fill-color);\n",
              "      border-top-color: var(--fill-color);\n",
              "    }\n",
              "    30% {\n",
              "      border-color: transparent;\n",
              "      border-left-color: var(--fill-color);\n",
              "      border-top-color: var(--fill-color);\n",
              "      border-right-color: var(--fill-color);\n",
              "    }\n",
              "    40% {\n",
              "      border-color: transparent;\n",
              "      border-right-color: var(--fill-color);\n",
              "      border-top-color: var(--fill-color);\n",
              "    }\n",
              "    60% {\n",
              "      border-color: transparent;\n",
              "      border-right-color: var(--fill-color);\n",
              "    }\n",
              "    80% {\n",
              "      border-color: transparent;\n",
              "      border-right-color: var(--fill-color);\n",
              "      border-bottom-color: var(--fill-color);\n",
              "    }\n",
              "    90% {\n",
              "      border-color: transparent;\n",
              "      border-bottom-color: var(--fill-color);\n",
              "    }\n",
              "  }\n",
              "</style>\n",
              "\n",
              "      <script>\n",
              "        async function quickchart(key) {\n",
              "          const quickchartButtonEl =\n",
              "            document.querySelector('#' + key + ' button');\n",
              "          quickchartButtonEl.disabled = true;  // To prevent multiple clicks.\n",
              "          quickchartButtonEl.classList.add('colab-df-spinner');\n",
              "          try {\n",
              "            const charts = await google.colab.kernel.invokeFunction(\n",
              "                'suggestCharts', [key], {});\n",
              "          } catch (error) {\n",
              "            console.error('Error during call to suggestCharts:', error);\n",
              "          }\n",
              "          quickchartButtonEl.classList.remove('colab-df-spinner');\n",
              "          quickchartButtonEl.classList.add('colab-df-quickchart-complete');\n",
              "        }\n",
              "        (() => {\n",
              "          let quickchartButtonEl =\n",
              "            document.querySelector('#df-5e677d76-3a15-49e5-bafa-a540bf36e6a2 button');\n",
              "          quickchartButtonEl.style.display =\n",
              "            google.colab.kernel.accessAllowed ? 'block' : 'none';\n",
              "        })();\n",
              "      </script>\n",
              "    </div>\n",
              "\n",
              "    </div>\n",
              "  </div>\n"
            ],
            "application/vnd.google.colaboratory.intrinsic+json": {
              "type": "dataframe",
              "variable_name": "df"
            }
          },
          "metadata": {},
          "execution_count": 13
        }
      ]
    },
    {
      "cell_type": "code",
      "source": [
        "# Train/test split\n",
        "train_df, test_df = train_test_split(df, test_size=0.2, random_state=42)\n",
        "\n",
        "train_user = train_df['user_id_encoded'].values\n",
        "train_biz  = train_df['business_id_encoded'].values\n",
        "train_text = train_df[text_cols].values\n",
        "train_r    = train_df['rating_normalized'].values\n",
        "\n",
        "test_user = test_df['user_id_encoded'].values\n",
        "test_biz  = test_df['business_id_encoded'].values\n",
        "test_text = test_df[text_cols].values\n",
        "test_r    = test_df['rating_normalized'].values"
      ],
      "metadata": {
        "id": "vw4nt0K4g0mr"
      },
      "execution_count": 14,
      "outputs": []
    },
    {
      "cell_type": "code",
      "source": [
        "# Build the model with an extra text branch\n",
        "\n",
        "num_users = df['user_id_encoded'].nunique()\n",
        "num_biz   = df['business_id_encoded'].nunique()\n",
        "\n",
        "user_in = Input(shape=(1,), name='user_input')\n",
        "biz_in  = Input(shape=(1,), name='business_input')\n",
        "text_in = Input(shape=(64,), name='text_input')\n",
        "\n",
        "# Embedding towers\n",
        "user_emb  = Embedding(input_dim=num_users+1, output_dim=64, name='user_emb')(user_in)\n",
        "user_vec  = Flatten()(user_emb)\n",
        "\n",
        "biz_emb   = Embedding(input_dim=num_biz+1, output_dim=64, name='biz_emb')(biz_in)\n",
        "biz_vec   = Flatten()(biz_emb)\n",
        "\n",
        "# Bias terms\n",
        "user_bias = Flatten()(Embedding(num_users+1, 1, name='user_bias')(user_in))\n",
        "biz_bias  = Flatten()(Embedding(num_biz+1, 1, name='biz_bias')(biz_in))\n",
        "\n",
        "# Interaction (MF) part\n",
        "dot       = Dot(axes=1)([user_vec, biz_vec])\n",
        "interaction = Add()([dot, user_bias, biz_bias])\n",
        "\n",
        "# Inserted: text branch\n",
        "x_text    = Dense(64, activation='relu')(text_in)\n",
        "x_text    = Dropout(0.2)(x_text)\n",
        "\n",
        "# Combine\\ n# Modified: include text branch in concatenation\n",
        "x = Concatenate()([interaction, x_text])\n",
        "x = Dense(128, activation='relu')(x)\n",
        "x = Dropout(0.3)(x)\n",
        "x = Dense(64, activation='relu')(x)\n",
        "x = Dropout(0.2)(x)\n",
        "x = Dense(32, activation='relu')(x)\n",
        "\n",
        "# Output\\ n# (Unchanged)\n",
        "output = Dense(1, activation='linear')(x)\n",
        "\n",
        "# Model definition\n",
        "# Modified: now three inputs\n",
        "model = Model(inputs=[user_in, biz_in, text_in], outputs=output)\n",
        "model.compile(optimizer='adam', loss='mse')\n",
        "model.summary()"
      ],
      "metadata": {
        "colab": {
          "base_uri": "https://localhost:8080/",
          "height": 1000
        },
        "id": "NAnm5NsMg7Ym",
        "outputId": "baccc2d0-1657-4d05-9764-93137654a25f"
      },
      "execution_count": 15,
      "outputs": [
        {
          "output_type": "display_data",
          "data": {
            "text/plain": [
              "\u001b[1mModel: \"functional\"\u001b[0m\n"
            ],
            "text/html": [
              "<pre style=\"white-space:pre;overflow-x:auto;line-height:normal;font-family:Menlo,'DejaVu Sans Mono',consolas,'Courier New',monospace\"><span style=\"font-weight: bold\">Model: \"functional\"</span>\n",
              "</pre>\n"
            ]
          },
          "metadata": {}
        },
        {
          "output_type": "display_data",
          "data": {
            "text/plain": [
              "┏━━━━━━━━━━━━━━━━━━━━━┳━━━━━━━━━━━━━━━━━━━┳━━━━━━━━━━━━┳━━━━━━━━━━━━━━━━━━━┓\n",
              "┃\u001b[1m \u001b[0m\u001b[1mLayer (type)       \u001b[0m\u001b[1m \u001b[0m┃\u001b[1m \u001b[0m\u001b[1mOutput Shape     \u001b[0m\u001b[1m \u001b[0m┃\u001b[1m \u001b[0m\u001b[1m   Param #\u001b[0m\u001b[1m \u001b[0m┃\u001b[1m \u001b[0m\u001b[1mConnected to     \u001b[0m\u001b[1m \u001b[0m┃\n",
              "┡━━━━━━━━━━━━━━━━━━━━━╇━━━━━━━━━━━━━━━━━━━╇━━━━━━━━━━━━╇━━━━━━━━━━━━━━━━━━━┩\n",
              "│ user_input          │ (\u001b[38;5;45mNone\u001b[0m, \u001b[38;5;34m1\u001b[0m)         │          \u001b[38;5;34m0\u001b[0m │ -                 │\n",
              "│ (\u001b[38;5;33mInputLayer\u001b[0m)        │                   │            │                   │\n",
              "├─────────────────────┼───────────────────┼────────────┼───────────────────┤\n",
              "│ business_input      │ (\u001b[38;5;45mNone\u001b[0m, \u001b[38;5;34m1\u001b[0m)         │          \u001b[38;5;34m0\u001b[0m │ -                 │\n",
              "│ (\u001b[38;5;33mInputLayer\u001b[0m)        │                   │            │                   │\n",
              "├─────────────────────┼───────────────────┼────────────┼───────────────────┤\n",
              "│ user_emb            │ (\u001b[38;5;45mNone\u001b[0m, \u001b[38;5;34m1\u001b[0m, \u001b[38;5;34m64\u001b[0m)     │  \u001b[38;5;34m1,894,208\u001b[0m │ user_input[\u001b[38;5;34m0\u001b[0m][\u001b[38;5;34m0\u001b[0m]  │\n",
              "│ (\u001b[38;5;33mEmbedding\u001b[0m)         │                   │            │                   │\n",
              "├─────────────────────┼───────────────────┼────────────┼───────────────────┤\n",
              "│ biz_emb (\u001b[38;5;33mEmbedding\u001b[0m) │ (\u001b[38;5;45mNone\u001b[0m, \u001b[38;5;34m1\u001b[0m, \u001b[38;5;34m64\u001b[0m)     │  \u001b[38;5;34m1,785,408\u001b[0m │ business_input[\u001b[38;5;34m0\u001b[0m… │\n",
              "├─────────────────────┼───────────────────┼────────────┼───────────────────┤\n",
              "│ flatten (\u001b[38;5;33mFlatten\u001b[0m)   │ (\u001b[38;5;45mNone\u001b[0m, \u001b[38;5;34m64\u001b[0m)        │          \u001b[38;5;34m0\u001b[0m │ user_emb[\u001b[38;5;34m0\u001b[0m][\u001b[38;5;34m0\u001b[0m]    │\n",
              "├─────────────────────┼───────────────────┼────────────┼───────────────────┤\n",
              "│ flatten_1 (\u001b[38;5;33mFlatten\u001b[0m) │ (\u001b[38;5;45mNone\u001b[0m, \u001b[38;5;34m64\u001b[0m)        │          \u001b[38;5;34m0\u001b[0m │ biz_emb[\u001b[38;5;34m0\u001b[0m][\u001b[38;5;34m0\u001b[0m]     │\n",
              "├─────────────────────┼───────────────────┼────────────┼───────────────────┤\n",
              "│ user_bias           │ (\u001b[38;5;45mNone\u001b[0m, \u001b[38;5;34m1\u001b[0m, \u001b[38;5;34m1\u001b[0m)      │     \u001b[38;5;34m29,597\u001b[0m │ user_input[\u001b[38;5;34m0\u001b[0m][\u001b[38;5;34m0\u001b[0m]  │\n",
              "│ (\u001b[38;5;33mEmbedding\u001b[0m)         │                   │            │                   │\n",
              "├─────────────────────┼───────────────────┼────────────┼───────────────────┤\n",
              "│ biz_bias            │ (\u001b[38;5;45mNone\u001b[0m, \u001b[38;5;34m1\u001b[0m, \u001b[38;5;34m1\u001b[0m)      │     \u001b[38;5;34m27,897\u001b[0m │ business_input[\u001b[38;5;34m0\u001b[0m… │\n",
              "│ (\u001b[38;5;33mEmbedding\u001b[0m)         │                   │            │                   │\n",
              "├─────────────────────┼───────────────────┼────────────┼───────────────────┤\n",
              "│ text_input          │ (\u001b[38;5;45mNone\u001b[0m, \u001b[38;5;34m64\u001b[0m)        │          \u001b[38;5;34m0\u001b[0m │ -                 │\n",
              "│ (\u001b[38;5;33mInputLayer\u001b[0m)        │                   │            │                   │\n",
              "├─────────────────────┼───────────────────┼────────────┼───────────────────┤\n",
              "│ dot (\u001b[38;5;33mDot\u001b[0m)           │ (\u001b[38;5;45mNone\u001b[0m, \u001b[38;5;34m1\u001b[0m)         │          \u001b[38;5;34m0\u001b[0m │ flatten[\u001b[38;5;34m0\u001b[0m][\u001b[38;5;34m0\u001b[0m],    │\n",
              "│                     │                   │            │ flatten_1[\u001b[38;5;34m0\u001b[0m][\u001b[38;5;34m0\u001b[0m]   │\n",
              "├─────────────────────┼───────────────────┼────────────┼───────────────────┤\n",
              "│ flatten_2 (\u001b[38;5;33mFlatten\u001b[0m) │ (\u001b[38;5;45mNone\u001b[0m, \u001b[38;5;34m1\u001b[0m)         │          \u001b[38;5;34m0\u001b[0m │ user_bias[\u001b[38;5;34m0\u001b[0m][\u001b[38;5;34m0\u001b[0m]   │\n",
              "├─────────────────────┼───────────────────┼────────────┼───────────────────┤\n",
              "│ flatten_3 (\u001b[38;5;33mFlatten\u001b[0m) │ (\u001b[38;5;45mNone\u001b[0m, \u001b[38;5;34m1\u001b[0m)         │          \u001b[38;5;34m0\u001b[0m │ biz_bias[\u001b[38;5;34m0\u001b[0m][\u001b[38;5;34m0\u001b[0m]    │\n",
              "├─────────────────────┼───────────────────┼────────────┼───────────────────┤\n",
              "│ dense (\u001b[38;5;33mDense\u001b[0m)       │ (\u001b[38;5;45mNone\u001b[0m, \u001b[38;5;34m64\u001b[0m)        │      \u001b[38;5;34m4,160\u001b[0m │ text_input[\u001b[38;5;34m0\u001b[0m][\u001b[38;5;34m0\u001b[0m]  │\n",
              "├─────────────────────┼───────────────────┼────────────┼───────────────────┤\n",
              "│ add (\u001b[38;5;33mAdd\u001b[0m)           │ (\u001b[38;5;45mNone\u001b[0m, \u001b[38;5;34m1\u001b[0m)         │          \u001b[38;5;34m0\u001b[0m │ dot[\u001b[38;5;34m0\u001b[0m][\u001b[38;5;34m0\u001b[0m],        │\n",
              "│                     │                   │            │ flatten_2[\u001b[38;5;34m0\u001b[0m][\u001b[38;5;34m0\u001b[0m],  │\n",
              "│                     │                   │            │ flatten_3[\u001b[38;5;34m0\u001b[0m][\u001b[38;5;34m0\u001b[0m]   │\n",
              "├─────────────────────┼───────────────────┼────────────┼───────────────────┤\n",
              "│ dropout (\u001b[38;5;33mDropout\u001b[0m)   │ (\u001b[38;5;45mNone\u001b[0m, \u001b[38;5;34m64\u001b[0m)        │          \u001b[38;5;34m0\u001b[0m │ dense[\u001b[38;5;34m0\u001b[0m][\u001b[38;5;34m0\u001b[0m]       │\n",
              "├─────────────────────┼───────────────────┼────────────┼───────────────────┤\n",
              "│ concatenate         │ (\u001b[38;5;45mNone\u001b[0m, \u001b[38;5;34m65\u001b[0m)        │          \u001b[38;5;34m0\u001b[0m │ add[\u001b[38;5;34m0\u001b[0m][\u001b[38;5;34m0\u001b[0m],        │\n",
              "│ (\u001b[38;5;33mConcatenate\u001b[0m)       │                   │            │ dropout[\u001b[38;5;34m0\u001b[0m][\u001b[38;5;34m0\u001b[0m]     │\n",
              "├─────────────────────┼───────────────────┼────────────┼───────────────────┤\n",
              "│ dense_1 (\u001b[38;5;33mDense\u001b[0m)     │ (\u001b[38;5;45mNone\u001b[0m, \u001b[38;5;34m128\u001b[0m)       │      \u001b[38;5;34m8,448\u001b[0m │ concatenate[\u001b[38;5;34m0\u001b[0m][\u001b[38;5;34m0\u001b[0m] │\n",
              "├─────────────────────┼───────────────────┼────────────┼───────────────────┤\n",
              "│ dropout_1 (\u001b[38;5;33mDropout\u001b[0m) │ (\u001b[38;5;45mNone\u001b[0m, \u001b[38;5;34m128\u001b[0m)       │          \u001b[38;5;34m0\u001b[0m │ dense_1[\u001b[38;5;34m0\u001b[0m][\u001b[38;5;34m0\u001b[0m]     │\n",
              "├─────────────────────┼───────────────────┼────────────┼───────────────────┤\n",
              "│ dense_2 (\u001b[38;5;33mDense\u001b[0m)     │ (\u001b[38;5;45mNone\u001b[0m, \u001b[38;5;34m64\u001b[0m)        │      \u001b[38;5;34m8,256\u001b[0m │ dropout_1[\u001b[38;5;34m0\u001b[0m][\u001b[38;5;34m0\u001b[0m]   │\n",
              "├─────────────────────┼───────────────────┼────────────┼───────────────────┤\n",
              "│ dropout_2 (\u001b[38;5;33mDropout\u001b[0m) │ (\u001b[38;5;45mNone\u001b[0m, \u001b[38;5;34m64\u001b[0m)        │          \u001b[38;5;34m0\u001b[0m │ dense_2[\u001b[38;5;34m0\u001b[0m][\u001b[38;5;34m0\u001b[0m]     │\n",
              "├─────────────────────┼───────────────────┼────────────┼───────────────────┤\n",
              "│ dense_3 (\u001b[38;5;33mDense\u001b[0m)     │ (\u001b[38;5;45mNone\u001b[0m, \u001b[38;5;34m32\u001b[0m)        │      \u001b[38;5;34m2,080\u001b[0m │ dropout_2[\u001b[38;5;34m0\u001b[0m][\u001b[38;5;34m0\u001b[0m]   │\n",
              "├─────────────────────┼───────────────────┼────────────┼───────────────────┤\n",
              "│ dense_4 (\u001b[38;5;33mDense\u001b[0m)     │ (\u001b[38;5;45mNone\u001b[0m, \u001b[38;5;34m1\u001b[0m)         │         \u001b[38;5;34m33\u001b[0m │ dense_3[\u001b[38;5;34m0\u001b[0m][\u001b[38;5;34m0\u001b[0m]     │\n",
              "└─────────────────────┴───────────────────┴────────────┴───────────────────┘\n"
            ],
            "text/html": [
              "<pre style=\"white-space:pre;overflow-x:auto;line-height:normal;font-family:Menlo,'DejaVu Sans Mono',consolas,'Courier New',monospace\">┏━━━━━━━━━━━━━━━━━━━━━┳━━━━━━━━━━━━━━━━━━━┳━━━━━━━━━━━━┳━━━━━━━━━━━━━━━━━━━┓\n",
              "┃<span style=\"font-weight: bold\"> Layer (type)        </span>┃<span style=\"font-weight: bold\"> Output Shape      </span>┃<span style=\"font-weight: bold\">    Param # </span>┃<span style=\"font-weight: bold\"> Connected to      </span>┃\n",
              "┡━━━━━━━━━━━━━━━━━━━━━╇━━━━━━━━━━━━━━━━━━━╇━━━━━━━━━━━━╇━━━━━━━━━━━━━━━━━━━┩\n",
              "│ user_input          │ (<span style=\"color: #00d7ff; text-decoration-color: #00d7ff\">None</span>, <span style=\"color: #00af00; text-decoration-color: #00af00\">1</span>)         │          <span style=\"color: #00af00; text-decoration-color: #00af00\">0</span> │ -                 │\n",
              "│ (<span style=\"color: #0087ff; text-decoration-color: #0087ff\">InputLayer</span>)        │                   │            │                   │\n",
              "├─────────────────────┼───────────────────┼────────────┼───────────────────┤\n",
              "│ business_input      │ (<span style=\"color: #00d7ff; text-decoration-color: #00d7ff\">None</span>, <span style=\"color: #00af00; text-decoration-color: #00af00\">1</span>)         │          <span style=\"color: #00af00; text-decoration-color: #00af00\">0</span> │ -                 │\n",
              "│ (<span style=\"color: #0087ff; text-decoration-color: #0087ff\">InputLayer</span>)        │                   │            │                   │\n",
              "├─────────────────────┼───────────────────┼────────────┼───────────────────┤\n",
              "│ user_emb            │ (<span style=\"color: #00d7ff; text-decoration-color: #00d7ff\">None</span>, <span style=\"color: #00af00; text-decoration-color: #00af00\">1</span>, <span style=\"color: #00af00; text-decoration-color: #00af00\">64</span>)     │  <span style=\"color: #00af00; text-decoration-color: #00af00\">1,894,208</span> │ user_input[<span style=\"color: #00af00; text-decoration-color: #00af00\">0</span>][<span style=\"color: #00af00; text-decoration-color: #00af00\">0</span>]  │\n",
              "│ (<span style=\"color: #0087ff; text-decoration-color: #0087ff\">Embedding</span>)         │                   │            │                   │\n",
              "├─────────────────────┼───────────────────┼────────────┼───────────────────┤\n",
              "│ biz_emb (<span style=\"color: #0087ff; text-decoration-color: #0087ff\">Embedding</span>) │ (<span style=\"color: #00d7ff; text-decoration-color: #00d7ff\">None</span>, <span style=\"color: #00af00; text-decoration-color: #00af00\">1</span>, <span style=\"color: #00af00; text-decoration-color: #00af00\">64</span>)     │  <span style=\"color: #00af00; text-decoration-color: #00af00\">1,785,408</span> │ business_input[<span style=\"color: #00af00; text-decoration-color: #00af00\">0</span>… │\n",
              "├─────────────────────┼───────────────────┼────────────┼───────────────────┤\n",
              "│ flatten (<span style=\"color: #0087ff; text-decoration-color: #0087ff\">Flatten</span>)   │ (<span style=\"color: #00d7ff; text-decoration-color: #00d7ff\">None</span>, <span style=\"color: #00af00; text-decoration-color: #00af00\">64</span>)        │          <span style=\"color: #00af00; text-decoration-color: #00af00\">0</span> │ user_emb[<span style=\"color: #00af00; text-decoration-color: #00af00\">0</span>][<span style=\"color: #00af00; text-decoration-color: #00af00\">0</span>]    │\n",
              "├─────────────────────┼───────────────────┼────────────┼───────────────────┤\n",
              "│ flatten_1 (<span style=\"color: #0087ff; text-decoration-color: #0087ff\">Flatten</span>) │ (<span style=\"color: #00d7ff; text-decoration-color: #00d7ff\">None</span>, <span style=\"color: #00af00; text-decoration-color: #00af00\">64</span>)        │          <span style=\"color: #00af00; text-decoration-color: #00af00\">0</span> │ biz_emb[<span style=\"color: #00af00; text-decoration-color: #00af00\">0</span>][<span style=\"color: #00af00; text-decoration-color: #00af00\">0</span>]     │\n",
              "├─────────────────────┼───────────────────┼────────────┼───────────────────┤\n",
              "│ user_bias           │ (<span style=\"color: #00d7ff; text-decoration-color: #00d7ff\">None</span>, <span style=\"color: #00af00; text-decoration-color: #00af00\">1</span>, <span style=\"color: #00af00; text-decoration-color: #00af00\">1</span>)      │     <span style=\"color: #00af00; text-decoration-color: #00af00\">29,597</span> │ user_input[<span style=\"color: #00af00; text-decoration-color: #00af00\">0</span>][<span style=\"color: #00af00; text-decoration-color: #00af00\">0</span>]  │\n",
              "│ (<span style=\"color: #0087ff; text-decoration-color: #0087ff\">Embedding</span>)         │                   │            │                   │\n",
              "├─────────────────────┼───────────────────┼────────────┼───────────────────┤\n",
              "│ biz_bias            │ (<span style=\"color: #00d7ff; text-decoration-color: #00d7ff\">None</span>, <span style=\"color: #00af00; text-decoration-color: #00af00\">1</span>, <span style=\"color: #00af00; text-decoration-color: #00af00\">1</span>)      │     <span style=\"color: #00af00; text-decoration-color: #00af00\">27,897</span> │ business_input[<span style=\"color: #00af00; text-decoration-color: #00af00\">0</span>… │\n",
              "│ (<span style=\"color: #0087ff; text-decoration-color: #0087ff\">Embedding</span>)         │                   │            │                   │\n",
              "├─────────────────────┼───────────────────┼────────────┼───────────────────┤\n",
              "│ text_input          │ (<span style=\"color: #00d7ff; text-decoration-color: #00d7ff\">None</span>, <span style=\"color: #00af00; text-decoration-color: #00af00\">64</span>)        │          <span style=\"color: #00af00; text-decoration-color: #00af00\">0</span> │ -                 │\n",
              "│ (<span style=\"color: #0087ff; text-decoration-color: #0087ff\">InputLayer</span>)        │                   │            │                   │\n",
              "├─────────────────────┼───────────────────┼────────────┼───────────────────┤\n",
              "│ dot (<span style=\"color: #0087ff; text-decoration-color: #0087ff\">Dot</span>)           │ (<span style=\"color: #00d7ff; text-decoration-color: #00d7ff\">None</span>, <span style=\"color: #00af00; text-decoration-color: #00af00\">1</span>)         │          <span style=\"color: #00af00; text-decoration-color: #00af00\">0</span> │ flatten[<span style=\"color: #00af00; text-decoration-color: #00af00\">0</span>][<span style=\"color: #00af00; text-decoration-color: #00af00\">0</span>],    │\n",
              "│                     │                   │            │ flatten_1[<span style=\"color: #00af00; text-decoration-color: #00af00\">0</span>][<span style=\"color: #00af00; text-decoration-color: #00af00\">0</span>]   │\n",
              "├─────────────────────┼───────────────────┼────────────┼───────────────────┤\n",
              "│ flatten_2 (<span style=\"color: #0087ff; text-decoration-color: #0087ff\">Flatten</span>) │ (<span style=\"color: #00d7ff; text-decoration-color: #00d7ff\">None</span>, <span style=\"color: #00af00; text-decoration-color: #00af00\">1</span>)         │          <span style=\"color: #00af00; text-decoration-color: #00af00\">0</span> │ user_bias[<span style=\"color: #00af00; text-decoration-color: #00af00\">0</span>][<span style=\"color: #00af00; text-decoration-color: #00af00\">0</span>]   │\n",
              "├─────────────────────┼───────────────────┼────────────┼───────────────────┤\n",
              "│ flatten_3 (<span style=\"color: #0087ff; text-decoration-color: #0087ff\">Flatten</span>) │ (<span style=\"color: #00d7ff; text-decoration-color: #00d7ff\">None</span>, <span style=\"color: #00af00; text-decoration-color: #00af00\">1</span>)         │          <span style=\"color: #00af00; text-decoration-color: #00af00\">0</span> │ biz_bias[<span style=\"color: #00af00; text-decoration-color: #00af00\">0</span>][<span style=\"color: #00af00; text-decoration-color: #00af00\">0</span>]    │\n",
              "├─────────────────────┼───────────────────┼────────────┼───────────────────┤\n",
              "│ dense (<span style=\"color: #0087ff; text-decoration-color: #0087ff\">Dense</span>)       │ (<span style=\"color: #00d7ff; text-decoration-color: #00d7ff\">None</span>, <span style=\"color: #00af00; text-decoration-color: #00af00\">64</span>)        │      <span style=\"color: #00af00; text-decoration-color: #00af00\">4,160</span> │ text_input[<span style=\"color: #00af00; text-decoration-color: #00af00\">0</span>][<span style=\"color: #00af00; text-decoration-color: #00af00\">0</span>]  │\n",
              "├─────────────────────┼───────────────────┼────────────┼───────────────────┤\n",
              "│ add (<span style=\"color: #0087ff; text-decoration-color: #0087ff\">Add</span>)           │ (<span style=\"color: #00d7ff; text-decoration-color: #00d7ff\">None</span>, <span style=\"color: #00af00; text-decoration-color: #00af00\">1</span>)         │          <span style=\"color: #00af00; text-decoration-color: #00af00\">0</span> │ dot[<span style=\"color: #00af00; text-decoration-color: #00af00\">0</span>][<span style=\"color: #00af00; text-decoration-color: #00af00\">0</span>],        │\n",
              "│                     │                   │            │ flatten_2[<span style=\"color: #00af00; text-decoration-color: #00af00\">0</span>][<span style=\"color: #00af00; text-decoration-color: #00af00\">0</span>],  │\n",
              "│                     │                   │            │ flatten_3[<span style=\"color: #00af00; text-decoration-color: #00af00\">0</span>][<span style=\"color: #00af00; text-decoration-color: #00af00\">0</span>]   │\n",
              "├─────────────────────┼───────────────────┼────────────┼───────────────────┤\n",
              "│ dropout (<span style=\"color: #0087ff; text-decoration-color: #0087ff\">Dropout</span>)   │ (<span style=\"color: #00d7ff; text-decoration-color: #00d7ff\">None</span>, <span style=\"color: #00af00; text-decoration-color: #00af00\">64</span>)        │          <span style=\"color: #00af00; text-decoration-color: #00af00\">0</span> │ dense[<span style=\"color: #00af00; text-decoration-color: #00af00\">0</span>][<span style=\"color: #00af00; text-decoration-color: #00af00\">0</span>]       │\n",
              "├─────────────────────┼───────────────────┼────────────┼───────────────────┤\n",
              "│ concatenate         │ (<span style=\"color: #00d7ff; text-decoration-color: #00d7ff\">None</span>, <span style=\"color: #00af00; text-decoration-color: #00af00\">65</span>)        │          <span style=\"color: #00af00; text-decoration-color: #00af00\">0</span> │ add[<span style=\"color: #00af00; text-decoration-color: #00af00\">0</span>][<span style=\"color: #00af00; text-decoration-color: #00af00\">0</span>],        │\n",
              "│ (<span style=\"color: #0087ff; text-decoration-color: #0087ff\">Concatenate</span>)       │                   │            │ dropout[<span style=\"color: #00af00; text-decoration-color: #00af00\">0</span>][<span style=\"color: #00af00; text-decoration-color: #00af00\">0</span>]     │\n",
              "├─────────────────────┼───────────────────┼────────────┼───────────────────┤\n",
              "│ dense_1 (<span style=\"color: #0087ff; text-decoration-color: #0087ff\">Dense</span>)     │ (<span style=\"color: #00d7ff; text-decoration-color: #00d7ff\">None</span>, <span style=\"color: #00af00; text-decoration-color: #00af00\">128</span>)       │      <span style=\"color: #00af00; text-decoration-color: #00af00\">8,448</span> │ concatenate[<span style=\"color: #00af00; text-decoration-color: #00af00\">0</span>][<span style=\"color: #00af00; text-decoration-color: #00af00\">0</span>] │\n",
              "├─────────────────────┼───────────────────┼────────────┼───────────────────┤\n",
              "│ dropout_1 (<span style=\"color: #0087ff; text-decoration-color: #0087ff\">Dropout</span>) │ (<span style=\"color: #00d7ff; text-decoration-color: #00d7ff\">None</span>, <span style=\"color: #00af00; text-decoration-color: #00af00\">128</span>)       │          <span style=\"color: #00af00; text-decoration-color: #00af00\">0</span> │ dense_1[<span style=\"color: #00af00; text-decoration-color: #00af00\">0</span>][<span style=\"color: #00af00; text-decoration-color: #00af00\">0</span>]     │\n",
              "├─────────────────────┼───────────────────┼────────────┼───────────────────┤\n",
              "│ dense_2 (<span style=\"color: #0087ff; text-decoration-color: #0087ff\">Dense</span>)     │ (<span style=\"color: #00d7ff; text-decoration-color: #00d7ff\">None</span>, <span style=\"color: #00af00; text-decoration-color: #00af00\">64</span>)        │      <span style=\"color: #00af00; text-decoration-color: #00af00\">8,256</span> │ dropout_1[<span style=\"color: #00af00; text-decoration-color: #00af00\">0</span>][<span style=\"color: #00af00; text-decoration-color: #00af00\">0</span>]   │\n",
              "├─────────────────────┼───────────────────┼────────────┼───────────────────┤\n",
              "│ dropout_2 (<span style=\"color: #0087ff; text-decoration-color: #0087ff\">Dropout</span>) │ (<span style=\"color: #00d7ff; text-decoration-color: #00d7ff\">None</span>, <span style=\"color: #00af00; text-decoration-color: #00af00\">64</span>)        │          <span style=\"color: #00af00; text-decoration-color: #00af00\">0</span> │ dense_2[<span style=\"color: #00af00; text-decoration-color: #00af00\">0</span>][<span style=\"color: #00af00; text-decoration-color: #00af00\">0</span>]     │\n",
              "├─────────────────────┼───────────────────┼────────────┼───────────────────┤\n",
              "│ dense_3 (<span style=\"color: #0087ff; text-decoration-color: #0087ff\">Dense</span>)     │ (<span style=\"color: #00d7ff; text-decoration-color: #00d7ff\">None</span>, <span style=\"color: #00af00; text-decoration-color: #00af00\">32</span>)        │      <span style=\"color: #00af00; text-decoration-color: #00af00\">2,080</span> │ dropout_2[<span style=\"color: #00af00; text-decoration-color: #00af00\">0</span>][<span style=\"color: #00af00; text-decoration-color: #00af00\">0</span>]   │\n",
              "├─────────────────────┼───────────────────┼────────────┼───────────────────┤\n",
              "│ dense_4 (<span style=\"color: #0087ff; text-decoration-color: #0087ff\">Dense</span>)     │ (<span style=\"color: #00d7ff; text-decoration-color: #00d7ff\">None</span>, <span style=\"color: #00af00; text-decoration-color: #00af00\">1</span>)         │         <span style=\"color: #00af00; text-decoration-color: #00af00\">33</span> │ dense_3[<span style=\"color: #00af00; text-decoration-color: #00af00\">0</span>][<span style=\"color: #00af00; text-decoration-color: #00af00\">0</span>]     │\n",
              "└─────────────────────┴───────────────────┴────────────┴───────────────────┘\n",
              "</pre>\n"
            ]
          },
          "metadata": {}
        },
        {
          "output_type": "display_data",
          "data": {
            "text/plain": [
              "\u001b[1m Total params: \u001b[0m\u001b[38;5;34m3,760,087\u001b[0m (14.34 MB)\n"
            ],
            "text/html": [
              "<pre style=\"white-space:pre;overflow-x:auto;line-height:normal;font-family:Menlo,'DejaVu Sans Mono',consolas,'Courier New',monospace\"><span style=\"font-weight: bold\"> Total params: </span><span style=\"color: #00af00; text-decoration-color: #00af00\">3,760,087</span> (14.34 MB)\n",
              "</pre>\n"
            ]
          },
          "metadata": {}
        },
        {
          "output_type": "display_data",
          "data": {
            "text/plain": [
              "\u001b[1m Trainable params: \u001b[0m\u001b[38;5;34m3,760,087\u001b[0m (14.34 MB)\n"
            ],
            "text/html": [
              "<pre style=\"white-space:pre;overflow-x:auto;line-height:normal;font-family:Menlo,'DejaVu Sans Mono',consolas,'Courier New',monospace\"><span style=\"font-weight: bold\"> Trainable params: </span><span style=\"color: #00af00; text-decoration-color: #00af00\">3,760,087</span> (14.34 MB)\n",
              "</pre>\n"
            ]
          },
          "metadata": {}
        },
        {
          "output_type": "display_data",
          "data": {
            "text/plain": [
              "\u001b[1m Non-trainable params: \u001b[0m\u001b[38;5;34m0\u001b[0m (0.00 B)\n"
            ],
            "text/html": [
              "<pre style=\"white-space:pre;overflow-x:auto;line-height:normal;font-family:Menlo,'DejaVu Sans Mono',consolas,'Courier New',monospace\"><span style=\"font-weight: bold\"> Non-trainable params: </span><span style=\"color: #00af00; text-decoration-color: #00af00\">0</span> (0.00 B)\n",
              "</pre>\n"
            ]
          },
          "metadata": {}
        }
      ]
    },
    {
      "cell_type": "code",
      "source": [
        "from tensorflow.keras.callbacks import EarlyStopping\n",
        "early_stop = EarlyStopping(monitor='val_loss', patience=3, restore_best_weights=True)"
      ],
      "metadata": {
        "id": "gkVN5pzAiNRn"
      },
      "execution_count": 16,
      "outputs": []
    },
    {
      "cell_type": "code",
      "source": [
        "# Check if GPU is available\n",
        "if tf.test.gpu_device_name():\n",
        "    print('Default GPU Device: {}'.format(tf.test.gpu_device_name()))\n",
        "else:\n",
        "    print(\"CPU\")"
      ],
      "metadata": {
        "colab": {
          "base_uri": "https://localhost:8080/"
        },
        "id": "icC3BYZWwgOr",
        "outputId": "2e04a6de-63bc-4ac1-9440-867701aabc4d"
      },
      "execution_count": 17,
      "outputs": [
        {
          "output_type": "stream",
          "name": "stdout",
          "text": [
            "Default GPU Device: /device:GPU:0\n"
          ]
        }
      ]
    },
    {
      "cell_type": "code",
      "source": [
        "epochs = 10  # adjust as needed\n",
        "batch_size = 512\n",
        "\n",
        "with tf.device('/device:GPU:0'):\n",
        "  history = model.fit(\n",
        "      [train_user, train_biz, train_text], train_r,\n",
        "      validation_data=([test_user, test_biz, test_text], test_r),\n",
        "      epochs=epochs,\n",
        "      batch_size=batch_size\n",
        "  )"
      ],
      "metadata": {
        "colab": {
          "base_uri": "https://localhost:8080/"
        },
        "id": "Js6oh11_hcsv",
        "outputId": "ce62af5b-68b6-4137-f525-e7de6698d002"
      },
      "execution_count": 19,
      "outputs": [
        {
          "output_type": "stream",
          "name": "stdout",
          "text": [
            "Epoch 1/10\n",
            "\u001b[1m136/136\u001b[0m \u001b[32m━━━━━━━━━━━━━━━━━━━━\u001b[0m\u001b[37m\u001b[0m \u001b[1m11s\u001b[0m 33ms/step - loss: 0.2430 - val_loss: 0.0411\n",
            "Epoch 2/10\n",
            "\u001b[1m136/136\u001b[0m \u001b[32m━━━━━━━━━━━━━━━━━━━━\u001b[0m\u001b[37m\u001b[0m \u001b[1m1s\u001b[0m 5ms/step - loss: 0.0457 - val_loss: 0.0406\n",
            "Epoch 3/10\n",
            "\u001b[1m136/136\u001b[0m \u001b[32m━━━━━━━━━━━━━━━━━━━━\u001b[0m\u001b[37m\u001b[0m \u001b[1m1s\u001b[0m 5ms/step - loss: 0.0316 - val_loss: 0.0427\n",
            "Epoch 4/10\n",
            "\u001b[1m136/136\u001b[0m \u001b[32m━━━━━━━━━━━━━━━━━━━━\u001b[0m\u001b[37m\u001b[0m \u001b[1m1s\u001b[0m 7ms/step - loss: 0.0135 - val_loss: 0.0406\n",
            "Epoch 5/10\n",
            "\u001b[1m136/136\u001b[0m \u001b[32m━━━━━━━━━━━━━━━━━━━━\u001b[0m\u001b[37m\u001b[0m \u001b[1m1s\u001b[0m 5ms/step - loss: 0.0066 - val_loss: 0.0413\n",
            "Epoch 6/10\n",
            "\u001b[1m136/136\u001b[0m \u001b[32m━━━━━━━━━━━━━━━━━━━━\u001b[0m\u001b[37m\u001b[0m \u001b[1m1s\u001b[0m 4ms/step - loss: 0.0042 - val_loss: 0.0411\n",
            "Epoch 7/10\n",
            "\u001b[1m136/136\u001b[0m \u001b[32m━━━━━━━━━━━━━━━━━━━━\u001b[0m\u001b[37m\u001b[0m \u001b[1m1s\u001b[0m 4ms/step - loss: 0.0026 - val_loss: 0.0419\n",
            "Epoch 8/10\n",
            "\u001b[1m136/136\u001b[0m \u001b[32m━━━━━━━━━━━━━━━━━━━━\u001b[0m\u001b[37m\u001b[0m \u001b[1m1s\u001b[0m 4ms/step - loss: 0.0018 - val_loss: 0.0428\n",
            "Epoch 9/10\n",
            "\u001b[1m136/136\u001b[0m \u001b[32m━━━━━━━━━━━━━━━━━━━━\u001b[0m\u001b[37m\u001b[0m \u001b[1m1s\u001b[0m 4ms/step - loss: 0.0014 - val_loss: 0.0431\n",
            "Epoch 10/10\n",
            "\u001b[1m136/136\u001b[0m \u001b[32m━━━━━━━━━━━━━━━━━━━━\u001b[0m\u001b[37m\u001b[0m \u001b[1m1s\u001b[0m 4ms/step - loss: 0.0011 - val_loss: 0.0429\n"
          ]
        }
      ]
    },
    {
      "cell_type": "code",
      "source": [
        "path = '/content/drive/MyDrive/CMPE256_COPY/Models/NCF_text.keras'\n",
        "model.save(path)"
      ],
      "metadata": {
        "id": "Q6hkm-_ihjvt"
      },
      "execution_count": 20,
      "outputs": []
    },
    {
      "cell_type": "code",
      "source": [
        "# Load model\n",
        "from tensorflow import keras\n",
        "path = '/content/drive/MyDrive/CMPE256_COPY/Models/NCF_text.keras'\n",
        "model = keras.models.load_model(path)"
      ],
      "metadata": {
        "id": "NFCjUffTxsW0"
      },
      "execution_count": 21,
      "outputs": []
    },
    {
      "cell_type": "markdown",
      "source": [
        "## Evaluation\n",
        "- MSE / RMSE\n",
        "- Mean Absolute Error (MAE)\n",
        "- Ranking: MRR (Mean Reciprocal Rank)\n",
        "- Ranking: NDCG (Normalized Discounted Cumulative Gain)\n"
      ],
      "metadata": {
        "id": "ZzYwr-IaoQDJ"
      }
    },
    {
      "cell_type": "code",
      "source": [
        "'''\n",
        "\n",
        "Evaluate the model on the test data with RMSE\n",
        "\n",
        "'''\n",
        "# Evaluate the model on the test data\n",
        "loss = model.evaluate([test_user, test_biz, test_text], test_r, verbose=0)\n",
        "print(f\"Test Loss: {loss}\")\n",
        "\n",
        "# Predict normalized ratings for the test data\n",
        "pred_norm = model.predict([test_user, test_biz, test_text])\n",
        "\n",
        "# Denormalize the predicted ratings\n",
        "pred = pred_norm * (max_rating - min_rating) + min_rating\n",
        "\n",
        "# Original ratings for test data\n",
        "test_orig = test_df['rating'].values\n",
        "\n",
        "# Calculate RMSE\n",
        "rmse = np.sqrt(np.mean((pred - test_orig)**2))\n",
        "print(f\"RMSE: {rmse}\")"
      ],
      "metadata": {
        "colab": {
          "base_uri": "https://localhost:8080/"
        },
        "id": "wOmliXtqxaWF",
        "outputId": "5fe36966-f986-40cf-ecc1-a9447d14598d"
      },
      "execution_count": 24,
      "outputs": [
        {
          "output_type": "stream",
          "name": "stdout",
          "text": [
            "Test Loss: 0.04292108491063118\n",
            "\u001b[1m544/544\u001b[0m \u001b[32m━━━━━━━━━━━━━━━━━━━━\u001b[0m\u001b[37m\u001b[0m \u001b[1m1s\u001b[0m 2ms/step\n",
            "RMSE: 0.9292431971945311\n"
          ]
        }
      ]
    },
    {
      "cell_type": "code",
      "source": [
        "# MAE\n",
        "mae = mean_absolute_error(test_orig, pred)\n",
        "print(f\"MAE: {mae}\")"
      ],
      "metadata": {
        "colab": {
          "base_uri": "https://localhost:8080/"
        },
        "id": "4AZgfmagj3of",
        "outputId": "bd16e596-741b-4a10-ded3-e6656a347f64"
      },
      "execution_count": 28,
      "outputs": [
        {
          "output_type": "stream",
          "name": "stdout",
          "text": [
            "MAE: 0.6155439019203186\n"
          ]
        }
      ]
    },
    {
      "cell_type": "code",
      "source": [
        "# Define relevance threshold (e.g., >=4 is relevant)\n",
        "def mrr_score(true_ratings, preds, threshold=4):\n",
        "    order = np.argsort(preds)[::-1]\n",
        "    for i, idx in enumerate(order):\n",
        "        if true_ratings[idx] >= threshold:\n",
        "            return 1.0 / (i + 1)\n",
        "    return 0.0"
      ],
      "metadata": {
        "id": "W7GQQ9PUkYiS"
      },
      "execution_count": 29,
      "outputs": []
    },
    {
      "cell_type": "code",
      "source": [
        "def ndcg_score(true_ratings, preds, k=10):\n",
        "    order = np.argsort(preds)[::-1][:k]\n",
        "    dcg = 0.0\n",
        "    for i, idx in enumerate(order):\n",
        "        rel = true_ratings[idx]\n",
        "        dcg += (2**rel - 1) / np.log2(i + 2)\n",
        "    # Ideal DCG\n",
        "    ideal_order = np.argsort(true_ratings)[::-1][:k]\n",
        "    idcg = 0.0\n",
        "    for i, idx in enumerate(ideal_order):\n",
        "        rel = true_ratings[idx]\n",
        "        idcg += (2**rel - 1) / np.log2(i + 2)\n",
        "    return dcg / idcg if idcg > 0 else 0.0"
      ],
      "metadata": {
        "id": "xEdV56sxkZqv"
      },
      "execution_count": 30,
      "outputs": []
    },
    {
      "cell_type": "code",
      "source": [
        "# Compute metrics across users\n",
        "mrrs = []\n",
        "ndcgs = []\n",
        "unique_users = np.unique(test_user)\n",
        "for uid in unique_users:\n",
        "    idx = np.where(test_user == uid)[0]\n",
        "    tr = test_orig[idx]\n",
        "    pr = pred[idx]\n",
        "    if len(tr) > 0:\n",
        "        mrrs.append(mrr_score(tr, pr))\n",
        "        ndcgs.append(ndcg_score(tr, pr, k=min(10, len(tr))))\n",
        "\n",
        "mrr = np.mean(mrrs) if mrrs else 0\n",
        "ndcg = np.mean(ndcgs) if ndcgs else 0\n",
        "print(f\"MRR: {mrr}\")\n",
        "print(f\"NDCG: {ndcg}\")"
      ],
      "metadata": {
        "colab": {
          "base_uri": "https://localhost:8080/"
        },
        "id": "P_zdjsglkcun",
        "outputId": "81e39db4-6e4d-4efe-e035-404e9a8f6fa9"
      },
      "execution_count": 32,
      "outputs": [
        {
          "output_type": "stream",
          "name": "stdout",
          "text": [
            "MRR: 0.8886377335744424\n",
            "NDCG: 0.9893022376947584\n"
          ]
        }
      ]
    }
  ]
}