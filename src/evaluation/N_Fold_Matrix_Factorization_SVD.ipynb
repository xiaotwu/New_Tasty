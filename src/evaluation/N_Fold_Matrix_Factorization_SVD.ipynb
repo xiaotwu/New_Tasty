{
  "nbformat": 4,
  "nbformat_minor": 0,
  "metadata": {
    "colab": {
      "provenance": []
    },
    "kernelspec": {
      "name": "python3",
      "display_name": "Python 3"
    },
    "language_info": {
      "name": "python"
    }
  },
  "cells": [
    {
      "cell_type": "code",
      "execution_count": null,
      "metadata": {
        "colab": {
          "base_uri": "https://localhost:8080/"
        },
        "id": "bbfp3-BesrHi",
        "outputId": "d7016801-a46e-4694-a677-ec4fa1723888"
      },
      "outputs": [
        {
          "output_type": "stream",
          "name": "stdout",
          "text": [
            "Mounted at /content/drive\n"
          ]
        }
      ],
      "source": [
        "from google.colab import drive\n",
        "drive.mount('/content/drive')"
      ]
    },
    {
      "cell_type": "code",
      "source": [
        "import pandas as pd\n",
        "from sklearn.preprocessing import LabelEncoder\n",
        "from sklearn.model_selection import train_test_split\n",
        "import tensorflow as tf\n",
        "from tensorflow.keras.layers import Input, Embedding, Flatten\n",
        "from tensorflow.keras.models import Model\n",
        "from tensorflow.keras.layers import Dot, Dense, Add, Concatenate\n",
        "from tensorflow.keras.regularizers import l2\n",
        "from tensorflow.keras.layers import Dropout\n",
        "import numpy as np"
      ],
      "metadata": {
        "id": "0GJM3OxSruu0"
      },
      "execution_count": null,
      "outputs": []
    },
    {
      "cell_type": "markdown",
      "source": [
        "## Load Data"
      ],
      "metadata": {
        "id": "jEwZV1ZcrzNs"
      }
    },
    {
      "cell_type": "code",
      "source": [
        "import json\n",
        "\n",
        "def load_data_from_json(filepath):\n",
        "  \"\"\"Loads data from a JSON file.\n",
        "\n",
        "  Args:\n",
        "    filepath: The path to the JSON file.\n",
        "\n",
        "  Returns:\n",
        "    A dictionary containing the data loaded from the JSON file,\n",
        "    or None if an error occurs.\n",
        "  \"\"\"\n",
        "  try:\n",
        "    with open(filepath, 'r') as file:\n",
        "      data = json.load(file)\n",
        "    return data\n",
        "  except FileNotFoundError:\n",
        "    print(f\"Error: File not found at {filepath}\")\n",
        "    return None\n",
        "  except json.JSONDecodeError:\n",
        "    print(f\"Error: Invalid JSON format in {filepath}\")\n",
        "    return None"
      ],
      "metadata": {
        "id": "pL4iQzQrrhQr"
      },
      "execution_count": null,
      "outputs": []
    },
    {
      "cell_type": "code",
      "source": [
        "data = load_data_from_json('/content/drive/MyDrive/CMPE256/CMPE256_Project/dataset/filter_all_t.json')\n",
        "\n",
        "# Check if data is loaded successfully\n",
        "if data:\n",
        "    # Assuming 'train' key contains the desired data\n",
        "    if 'train' in data and isinstance(data['train'], list):\n",
        "        df = pd.DataFrame(data['train'])  # Create DataFrame from 'train' list\n",
        "        print(df.head())\n",
        "    else:\n",
        "        print(\"Error: 'train' key not found or not a list in the JSON data.\")\n",
        "else:\n",
        "    print(\"Error: Data not loaded from JSON file.\")"
      ],
      "metadata": {
        "colab": {
          "base_uri": "https://localhost:8080/"
        },
        "id": "BZsmUuXzsvuS",
        "outputId": "c1f8c8c4-f5d6-4667-98e3-c98b85fe7bc1"
      },
      "execution_count": null,
      "outputs": [
        {
          "output_type": "stream",
          "name": "stdout",
          "text": [
            "                business_id                user_id  rating  \\\n",
            "0  60567465d335d0abfb415b26  101074926318992653684       4   \n",
            "1  6050fa9f5b4ccec8d5cae994  117065749986299237881       5   \n",
            "2  604be10877e81aaed3cc9a1e  106700937793048450809       4   \n",
            "3  60411e017cd8bf130362365a  101643045857250355161       5   \n",
            "4  604139dd7cd8bf1303624208  109802745326785766951       4   \n",
            "\n",
            "                                         review_text  \\\n",
            "0  The tang of the tomato sauce is outstanding. A...   \n",
            "1              Chicken and waffles were really good!   \n",
            "2  The appetizer of colossal shrimp was very good...   \n",
            "3  The fish tacos here  omg! The salad was great ...   \n",
            "4  Ribs are great, as are the mac and cheese, fri...   \n",
            "\n",
            "                                                pics  \\\n",
            "0  [AF1QipM-2IRmvitARbcJr7deWfe5hyVBg_ArPMQSYvq0,...   \n",
            "1     [AF1QipMpfxIZUT_aymQ3qPGO-QgGYzxbtLZGmHufAp2s]   \n",
            "2  [AF1QipMNnqM5X9sSyZ9pXRZ1jvrURHN9bZhGdzuEXoP8,...   \n",
            "3  [AF1QipM-a6AGGp4Hgk5RD0gY5sDRp5kEfB1hZLvlRkft,...   \n",
            "4     [AF1QipNVys4yq-5w_3EsDdHpSc9ZNb7Nl30Mfb6Y0Gup]   \n",
            "\n",
            "                                     history_reviews  \n",
            "0  [[101074926318992653684_6056272797d555cc6fb0d1...  \n",
            "1  [[117065749986299237881_605206f8d8c08f462b93e8...  \n",
            "2  [[106700937793048450809_6044300b27f39b7b5d1dbf...  \n",
            "3  [[101643045857250355161_604fbdd099686c10168c91...  \n",
            "4  [[109802745326785766951_60524fa9f09a4ffff042f9...  \n"
          ]
        }
      ]
    },
    {
      "cell_type": "code",
      "source": [
        "df.keys()"
      ],
      "metadata": {
        "colab": {
          "base_uri": "https://localhost:8080/"
        },
        "id": "kq3Ge4FksxYa",
        "outputId": "1b7858c2-cda6-48e6-b7e9-9d6e7c0c6b25"
      },
      "execution_count": null,
      "outputs": [
        {
          "output_type": "execute_result",
          "data": {
            "text/plain": [
              "Index(['business_id', 'user_id', 'rating', 'review_text', 'pics',\n",
              "       'history_reviews'],\n",
              "      dtype='object')"
            ]
          },
          "metadata": {},
          "execution_count": 4
        }
      ]
    },
    {
      "cell_type": "code",
      "source": [
        "max_rating = df['rating'].max()\n",
        "print(f\"The maximum rating in the dataset is: {max_rating}\")"
      ],
      "metadata": {
        "colab": {
          "base_uri": "https://localhost:8080/"
        },
        "id": "VNN0MDUBtRrO",
        "outputId": "d1e4430d-3443-4272-ee1c-b99b57a1af93"
      },
      "execution_count": null,
      "outputs": [
        {
          "output_type": "stream",
          "name": "stdout",
          "text": [
            "The maximum rating in the dataset is: 5\n"
          ]
        }
      ]
    },
    {
      "cell_type": "code",
      "source": [
        "min_rating = df['rating'].min()\n",
        "print(f\"The minimum rating in the dataset is: {min_rating}\")"
      ],
      "metadata": {
        "colab": {
          "base_uri": "https://localhost:8080/"
        },
        "id": "Juu9pfu1tViE",
        "outputId": "0de04feb-4a5c-418d-94ac-21a1df5feb16"
      },
      "execution_count": null,
      "outputs": [
        {
          "output_type": "stream",
          "name": "stdout",
          "text": [
            "The minimum rating in the dataset is: 1\n"
          ]
        }
      ]
    },
    {
      "cell_type": "code",
      "source": [
        "unique_user_ids = df['user_id'].nunique()\n",
        "total_user_ids = len(df['user_id'])\n",
        "print(f\"Total number of User IDs: {total_user_ids}\")\n",
        "print(f\"Number of unique User IDs: {unique_user_ids}\")"
      ],
      "metadata": {
        "colab": {
          "base_uri": "https://localhost:8080/"
        },
        "id": "YQjBxTottXfo",
        "outputId": "e376f565-a162-4e81-ae06-0a19b7f97b3c"
      },
      "execution_count": null,
      "outputs": [
        {
          "output_type": "stream",
          "name": "stdout",
          "text": [
            "Total number of User IDs: 87013\n",
            "Number of unique User IDs: 29596\n"
          ]
        }
      ]
    },
    {
      "cell_type": "code",
      "source": [
        "unique_business_ids = df['business_id'].nunique()\n",
        "total_business_ids = len(df['business_id'])\n",
        "print(f\"Total number of Business IDs: {total_business_ids}\")\n",
        "print(f\"Number of unique Business IDs: {unique_business_ids}\")"
      ],
      "metadata": {
        "colab": {
          "base_uri": "https://localhost:8080/"
        },
        "id": "EY18DSKjtb5F",
        "outputId": "add66a29-0856-43cc-fae6-60aba22254c7"
      },
      "execution_count": null,
      "outputs": [
        {
          "output_type": "stream",
          "name": "stdout",
          "text": [
            "Total number of Business IDs: 87013\n",
            "Number of unique Business IDs: 27896\n"
          ]
        }
      ]
    },
    {
      "cell_type": "markdown",
      "source": [
        "## Matrix_Factorization SVD\n",
        "\n"
      ],
      "metadata": {
        "id": "SNXcamKPtt6o"
      }
    },
    {
      "cell_type": "code",
      "source": [
        "!pip uninstall numpy"
      ],
      "metadata": {
        "colab": {
          "base_uri": "https://localhost:8080/"
        },
        "id": "MGQnQTmwczJW",
        "outputId": "509be192-0b0d-43fd-af03-31b01a0a702e"
      },
      "execution_count": null,
      "outputs": [
        {
          "output_type": "stream",
          "name": "stdout",
          "text": [
            "Found existing installation: numpy 2.0.2\n",
            "Uninstalling numpy-2.0.2:\n",
            "  Would remove:\n",
            "    /usr/local/bin/f2py\n",
            "    /usr/local/bin/numpy-config\n",
            "    /usr/local/lib/python3.11/dist-packages/numpy-2.0.2.dist-info/*\n",
            "    /usr/local/lib/python3.11/dist-packages/numpy.libs/libgfortran-040039e1-0352e75f.so.5.0.0\n",
            "    /usr/local/lib/python3.11/dist-packages/numpy.libs/libquadmath-96973f99-934c22de.so.0.0.0\n",
            "    /usr/local/lib/python3.11/dist-packages/numpy.libs/libscipy_openblas64_-99b71e71.so\n",
            "    /usr/local/lib/python3.11/dist-packages/numpy/*\n",
            "Proceed (Y/n)? y\n",
            "  Successfully uninstalled numpy-2.0.2\n"
          ]
        }
      ]
    },
    {
      "cell_type": "code",
      "source": [
        "!pip install numpy==1.26.4"
      ],
      "metadata": {
        "colab": {
          "base_uri": "https://localhost:8080/"
        },
        "id": "GUNhN6Weczxz",
        "outputId": "0d523e3b-1ce8-4653-f871-5b3320db8376"
      },
      "execution_count": null,
      "outputs": [
        {
          "output_type": "stream",
          "name": "stdout",
          "text": [
            "Collecting numpy==1.26.4\n",
            "  Downloading numpy-1.26.4-cp311-cp311-manylinux_2_17_x86_64.manylinux2014_x86_64.whl.metadata (61 kB)\n",
            "\u001b[2K     \u001b[90m━━━━━━━━━━━━━━━━━━━━━━━━━━━━━━━━━━━━━━━━\u001b[0m \u001b[32m61.0/61.0 kB\u001b[0m \u001b[31m3.7 MB/s\u001b[0m eta \u001b[36m0:00:00\u001b[0m\n",
            "\u001b[?25hDownloading numpy-1.26.4-cp311-cp311-manylinux_2_17_x86_64.manylinux2014_x86_64.whl (18.3 MB)\n",
            "\u001b[2K   \u001b[90m━━━━━━━━━━━━━━━━━━━━━━━━━━━━━━━━━━━━━━━━\u001b[0m \u001b[32m18.3/18.3 MB\u001b[0m \u001b[31m63.9 MB/s\u001b[0m eta \u001b[36m0:00:00\u001b[0m\n",
            "\u001b[?25hInstalling collected packages: numpy\n",
            "\u001b[31mERROR: pip's dependency resolver does not currently take into account all the packages that are installed. This behaviour is the source of the following dependency conflicts.\n",
            "thinc 8.3.6 requires numpy<3.0.0,>=2.0.0, but you have numpy 1.26.4 which is incompatible.\u001b[0m\u001b[31m\n",
            "\u001b[0mSuccessfully installed numpy-1.26.4\n"
          ]
        }
      ]
    },
    {
      "cell_type": "code",
      "source": [
        "# need restart the section for numpy==1.26.4"
      ],
      "metadata": {
        "id": "npjc09wkc1i8"
      },
      "execution_count": null,
      "outputs": []
    },
    {
      "cell_type": "code",
      "source": [
        "!pip install pandas"
      ],
      "metadata": {
        "colab": {
          "base_uri": "https://localhost:8080/"
        },
        "id": "jq0gqor2c3qt",
        "outputId": "a3e51703-76c4-4885-cba9-531c1c7d8682"
      },
      "execution_count": null,
      "outputs": [
        {
          "output_type": "stream",
          "name": "stdout",
          "text": [
            "Requirement already satisfied: pandas in /usr/local/lib/python3.11/dist-packages (2.2.2)\n",
            "Requirement already satisfied: numpy>=1.23.2 in /usr/local/lib/python3.11/dist-packages (from pandas) (1.26.4)\n",
            "Requirement already satisfied: python-dateutil>=2.8.2 in /usr/local/lib/python3.11/dist-packages (from pandas) (2.8.2)\n",
            "Requirement already satisfied: pytz>=2020.1 in /usr/local/lib/python3.11/dist-packages (from pandas) (2025.2)\n",
            "Requirement already satisfied: tzdata>=2022.7 in /usr/local/lib/python3.11/dist-packages (from pandas) (2025.2)\n",
            "Requirement already satisfied: six>=1.5 in /usr/local/lib/python3.11/dist-packages (from python-dateutil>=2.8.2->pandas) (1.17.0)\n"
          ]
        }
      ]
    },
    {
      "cell_type": "code",
      "source": [
        "!pip install scikit-surprise"
      ],
      "metadata": {
        "colab": {
          "base_uri": "https://localhost:8080/"
        },
        "id": "dn26SK93cPzj",
        "outputId": "d09ed45d-122a-432a-efc6-5885a07538ab"
      },
      "execution_count": null,
      "outputs": [
        {
          "output_type": "stream",
          "name": "stdout",
          "text": [
            "Collecting scikit-surprise\n",
            "  Downloading scikit_surprise-1.1.4.tar.gz (154 kB)\n",
            "\u001b[?25l     \u001b[90m━━━━━━━━━━━━━━━━━━━━━━━━━━━━━━━━━━━━━━━━\u001b[0m \u001b[32m0.0/154.4 kB\u001b[0m \u001b[31m?\u001b[0m eta \u001b[36m-:--:--\u001b[0m\r\u001b[2K     \u001b[91m━━━━━━━━━━━━━━━━━━━━━━━━━━━━━━━━━━━━━━\u001b[0m\u001b[91m╸\u001b[0m \u001b[32m153.6/154.4 kB\u001b[0m \u001b[31m4.4 MB/s\u001b[0m eta \u001b[36m0:00:01\u001b[0m\r\u001b[2K     \u001b[90m━━━━━━━━━━━━━━━━━━━━━━━━━━━━━━━━━━━━━━━\u001b[0m \u001b[32m154.4/154.4 kB\u001b[0m \u001b[31m3.1 MB/s\u001b[0m eta \u001b[36m0:00:00\u001b[0m\n",
            "\u001b[?25h  Installing build dependencies ... \u001b[?25l\u001b[?25hdone\n",
            "  Getting requirements to build wheel ... \u001b[?25l\u001b[?25hdone\n",
            "  Preparing metadata (pyproject.toml) ... \u001b[?25l\u001b[?25hdone\n",
            "Requirement already satisfied: joblib>=1.2.0 in /usr/local/lib/python3.11/dist-packages (from scikit-surprise) (1.4.2)\n",
            "Requirement already satisfied: numpy>=1.19.5 in /usr/local/lib/python3.11/dist-packages (from scikit-surprise) (2.0.2)\n",
            "Requirement already satisfied: scipy>=1.6.0 in /usr/local/lib/python3.11/dist-packages (from scikit-surprise) (1.15.2)\n",
            "Building wheels for collected packages: scikit-surprise\n",
            "  Building wheel for scikit-surprise (pyproject.toml) ... \u001b[?25l\u001b[?25hdone\n",
            "  Created wheel for scikit-surprise: filename=scikit_surprise-1.1.4-cp311-cp311-linux_x86_64.whl size=2505224 sha256=8166d5f2259df1751a9933f0bb74148669fcabf20cc26728dc649c3b4358f6b6\n",
            "  Stored in directory: /root/.cache/pip/wheels/2a/8f/6e/7e2899163e2d85d8266daab4aa1cdabec7a6c56f83c015b5af\n",
            "Successfully built scikit-surprise\n",
            "Installing collected packages: scikit-surprise\n",
            "Successfully installed scikit-surprise-1.1.4\n"
          ]
        }
      ]
    },
    {
      "cell_type": "code",
      "source": [
        "from surprise import Dataset, Reader, SVD\n",
        "from surprise.model_selection import cross_validate, KFold\n",
        "from surprise import accuracy # Import the accuracy module\n",
        "import math"
      ],
      "metadata": {
        "id": "jCQVWg24cLLt"
      },
      "execution_count": null,
      "outputs": []
    },
    {
      "cell_type": "code",
      "source": [
        "# Normalize\n",
        "df['rating_normalized'] = (df['rating'] -min_rating)/(max_rating - min_rating)"
      ],
      "metadata": {
        "id": "2tmQgRH2ASbe"
      },
      "execution_count": null,
      "outputs": []
    },
    {
      "cell_type": "code",
      "source": [
        "train, test = train_test_split(df, test_size=0.2, random_state=42)"
      ],
      "metadata": {
        "id": "yXIG5-kbCIFw"
      },
      "execution_count": null,
      "outputs": []
    },
    {
      "cell_type": "code",
      "source": [
        "# Define the reader object\n",
        "reader = Reader(rating_scale=(min_rating, max_rating))\n",
        "\n",
        "# Load the data into Surprise's Dataset format\n",
        "data_surprise = Dataset.load_from_df(train[['user_id', 'business_id', 'rating_normalized']], reader)\n",
        "\n",
        "# Define the SVD algorithm\n",
        "model = SVD()\n",
        "\n",
        "# Define the number of folds for cross-validation\n",
        "k = 5\n",
        "kf = KFold(n_splits=k)\n",
        "\n",
        "# Perform k-fold cross-validation\n",
        "for trainset, testset in kf.split(data_surprise):\n",
        "    model.fit(trainset)\n",
        "    predictions = model.test(testset)\n",
        "\n",
        "    # Evaluate the model on the testset\n",
        "    accuracy.rmse(predictions, verbose=True)\n",
        "    accuracy.mae(predictions, verbose=True)"
      ],
      "metadata": {
        "colab": {
          "base_uri": "https://localhost:8080/"
        },
        "id": "xxnH60S6_9wK",
        "outputId": "9cc554b7-5740-4448-9a4e-35cefc0a12cc"
      },
      "execution_count": null,
      "outputs": [
        {
          "output_type": "stream",
          "name": "stdout",
          "text": [
            "RMSE: 0.2504\n",
            "MAE:  0.1371\n",
            "RMSE: 0.2514\n",
            "MAE:  0.1396\n",
            "RMSE: 0.2508\n",
            "MAE:  0.1377\n",
            "RMSE: 0.2470\n",
            "MAE:  0.1341\n",
            "RMSE: 0.2521\n",
            "MAE:  0.1409\n"
          ]
        }
      ]
    },
    {
      "cell_type": "code",
      "source": [
        "sum_rmse = 0.2430+ 0.2511+ 0.2554+ 0.2506+ 0.2510\n",
        "print(sum_rmse/5)"
      ],
      "metadata": {
        "colab": {
          "base_uri": "https://localhost:8080/"
        },
        "id": "xG_NrptRAUXl",
        "outputId": "e56351d7-7a3b-43a0-b851-42e6d4ac6e3a"
      },
      "execution_count": null,
      "outputs": [
        {
          "output_type": "stream",
          "name": "stdout",
          "text": [
            "0.25022\n"
          ]
        }
      ]
    },
    {
      "cell_type": "code",
      "source": [
        "sum_mae = 0.1319+0.1383+0.1404+0.1382+0.1398\n",
        "print(sum_mae/5)"
      ],
      "metadata": {
        "colab": {
          "base_uri": "https://localhost:8080/"
        },
        "id": "A2XTAuhHAsqB",
        "outputId": "5e3fa6ec-8171-4d59-aae2-954182a9ef01"
      },
      "execution_count": null,
      "outputs": [
        {
          "output_type": "stream",
          "name": "stdout",
          "text": [
            "0.63228\n"
          ]
        }
      ]
    },
    {
      "cell_type": "markdown",
      "source": [
        "## 5-Fold Corss Valdation Evaluation\n",
        "- MSE / RMSE\n",
        "- Mean Absolute Error (MAE)\n",
        "- Ranking: MRR (Mean Reciprocal Rank)\n",
        "- Ranking: NDCG (Normalized Discounted Cumulative Gain)\n"
      ],
      "metadata": {
        "id": "1QNud01OCfZQ"
      }
    },
    {
      "cell_type": "code",
      "source": [
        "test_user_ids = test['user_id'].values\n",
        "test_business_ids = test['business_id'].values\n",
        "test_normalized_ratings = test['rating_normalized'].values\n",
        "test_ratings = test['rating'].values"
      ],
      "metadata": {
        "id": "8WNdAJ19DDcS"
      },
      "execution_count": null,
      "outputs": []
    },
    {
      "cell_type": "code",
      "source": [
        "# Predict ratings for the test data\n",
        "predicted_ratings = []\n",
        "for user_id, business_id in zip(test_user_ids, test_business_ids):\n",
        "    prediction = model.predict(user_id, business_id)  # predict for each user-item pair\n",
        "    predicted_ratings.append(prediction.est) # est gives the rating prediction\n",
        "\n",
        "predicted_ratings = np.array(predicted_ratings) # convert the list to array\n",
        "\n",
        "\n",
        "# Denormalize the predicted ratings\n",
        "predicted_ratings = predicted_ratings * (max_rating - min_rating) + min_rating"
      ],
      "metadata": {
        "id": "x3G2tm-5CfI_"
      },
      "execution_count": null,
      "outputs": []
    },
    {
      "cell_type": "code",
      "source": [
        "# Calculate RMSE\n",
        "rmse = np.sqrt(np.mean((predicted_ratings - test_ratings)**2))\n",
        "print(f\"RMSE: {rmse}\")"
      ],
      "metadata": {
        "colab": {
          "base_uri": "https://localhost:8080/"
        },
        "id": "A88Zep_mDrE4",
        "outputId": "5c2e6020-fa7b-4bd7-8ab2-efc306900b6c"
      },
      "execution_count": null,
      "outputs": [
        {
          "output_type": "stream",
          "name": "stdout",
          "text": [
            "RMSE: 0.9888745146091031\n"
          ]
        }
      ]
    },
    {
      "cell_type": "code",
      "source": [
        "'''\n",
        "\n",
        "Evaluate the model on the test data with MAE\n",
        "\n",
        "'''\n",
        "# Calculate MAE\n",
        "mae = np.mean(np.abs(predicted_ratings - test_ratings))\n",
        "print(f\"MAE: {mae}\")"
      ],
      "metadata": {
        "colab": {
          "base_uri": "https://localhost:8080/"
        },
        "id": "oiHyU7cCDUzX",
        "outputId": "ba55618b-d02d-437b-8815-6d9dd138dcf7"
      },
      "execution_count": null,
      "outputs": [
        {
          "output_type": "stream",
          "name": "stdout",
          "text": [
            "MAE: 0.5413042555427109\n"
          ]
        }
      ]
    },
    {
      "cell_type": "code",
      "source": [
        "def calculate_mrr(predicted_ratings, test_ratings, k=10):\n",
        "    \"\"\"Calculates the Mean Reciprocal Rank (MRR)@k.\n",
        "\n",
        "    Args:\n",
        "        predicted_ratings: A NumPy array of predicted ratings.\n",
        "        test_ratings: A NumPy array of true ratings.\n",
        "        k: The number of top recommendations to consider.\n",
        "\n",
        "    Returns:\n",
        "        The MRR@k.\n",
        "    \"\"\"\n",
        "\n",
        "    mrr_sum = 0\n",
        "    for i in range(len(test_ratings)):\n",
        "        # Get the top k recommendations for the current user.\n",
        "        top_k_indices = np.argsort(predicted_ratings[i])[::-1][:k]\n",
        "\n",
        "        # Find the rank of the highest-rated item in the top k recommendations.\n",
        "        for rank, index in enumerate(top_k_indices):\n",
        "          if index == np.argmax(test_ratings[i]):\n",
        "            mrr_sum += 1 / (rank + 1)\n",
        "            break\n",
        "\n",
        "    return mrr_sum / len(test_ratings)"
      ],
      "metadata": {
        "id": "WHJVya2eDY2x"
      },
      "execution_count": null,
      "outputs": []
    },
    {
      "cell_type": "code",
      "source": [
        "'''\n",
        "\n",
        "Evaluate the model on the test data with MRR\n",
        "\n",
        "'''\n",
        "mrr_at_10 = calculate_mrr(predicted_ratings, test_ratings, k=10)\n",
        "print(f\"MRR@10: {mrr_at_10}\")"
      ],
      "metadata": {
        "colab": {
          "base_uri": "https://localhost:8080/"
        },
        "id": "OxqkGoelDbER",
        "outputId": "6ddcaf9d-0253-4374-e9f5-dcc20038ad66"
      },
      "execution_count": null,
      "outputs": [
        {
          "output_type": "stream",
          "name": "stdout",
          "text": [
            "MRR@10: 1.0\n"
          ]
        }
      ]
    },
    {
      "cell_type": "code",
      "source": [
        "def dcg_at_k(relevance_scores, k):\n",
        "    relevance_scores = np.asarray(relevance_scores, dtype=np.float64)[:k]\n",
        "    if relevance_scores.size:\n",
        "        return np.sum(relevance_scores / np.log2(np.arange(2, relevance_scores.size + 2)))\n",
        "    return 0.0"
      ],
      "metadata": {
        "id": "7FUnhKkcDdj3"
      },
      "execution_count": null,
      "outputs": []
    },
    {
      "cell_type": "code",
      "source": [
        "def ndcg_at_k(predicted_scores, true_relevance, k):\n",
        "    \"\"\"\n",
        "    predicted_scores: List or array of predicted scores (higher -> more relevant)\n",
        "    true_relevance: List or array of ground truth relevance (1 for relevant & 0 for not)\n",
        "    k: Rank position to evaluate at (k = 10)\n",
        "    \"\"\"\n",
        "    # Sort by predicted scores\n",
        "    order = np.argsort(predicted_scores)[::-1]\n",
        "    true_relevance = np.take(true_relevance, order)\n",
        "\n",
        "    dcg = dcg_at_k(true_relevance, k)\n",
        "    ideal_dcg = dcg_at_k(sorted(true_relevance, reverse=True), k)\n",
        "\n",
        "    return dcg / ideal_dcg if ideal_dcg > 0 else 0.0"
      ],
      "metadata": {
        "id": "ywGE_043DfLb"
      },
      "execution_count": null,
      "outputs": []
    },
    {
      "cell_type": "code",
      "source": [
        "'''\n",
        "\n",
        "Evaluate the model on the test data with NDCG\n",
        "\n",
        "'''\n",
        "k =10\n",
        "ndcg = ndcg_at_k(predicted_ratings, test_ratings, k)\n",
        "print(f\"NDCG@{k}: {ndcg:.2f}\")"
      ],
      "metadata": {
        "colab": {
          "base_uri": "https://localhost:8080/"
        },
        "id": "Mk89hMbUDhSS",
        "outputId": "c77d82e8-94e3-49b1-97b7-649d85b7c789"
      },
      "execution_count": null,
      "outputs": [
        {
          "output_type": "stream",
          "name": "stdout",
          "text": [
            "NDCG@10: 0.90\n"
          ]
        }
      ]
    }
  ]
}