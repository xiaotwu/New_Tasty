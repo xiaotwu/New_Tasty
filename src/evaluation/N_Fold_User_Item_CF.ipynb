{
  "nbformat": 4,
  "nbformat_minor": 0,
  "metadata": {
    "colab": {
      "provenance": []
    },
    "kernelspec": {
      "name": "python3",
      "display_name": "Python 3"
    },
    "language_info": {
      "name": "python"
    }
  },
  "cells": [
    {
      "cell_type": "code",
      "execution_count": null,
      "metadata": {
        "colab": {
          "base_uri": "https://localhost:8080/"
        },
        "id": "bbfp3-BesrHi",
        "outputId": "ee3b55dd-358e-4e47-aa80-f5ab8269c5a4"
      },
      "outputs": [
        {
          "output_type": "stream",
          "name": "stdout",
          "text": [
            "Mounted at /content/drive\n"
          ]
        }
      ],
      "source": [
        "from google.colab import drive\n",
        "drive.mount('/content/drive')"
      ]
    },
    {
      "cell_type": "code",
      "source": [
        "import pandas as pd\n",
        "from sklearn.preprocessing import LabelEncoder\n",
        "from sklearn.model_selection import train_test_split\n",
        "import tensorflow as tf\n",
        "from tensorflow.keras.layers import Input, Embedding, Flatten\n",
        "from tensorflow.keras.models import Model\n",
        "from tensorflow.keras.layers import Dot, Dense, Add, Concatenate\n",
        "from tensorflow.keras.regularizers import l2\n",
        "from tensorflow.keras.layers import Dropout\n",
        "import numpy as np"
      ],
      "metadata": {
        "id": "0GJM3OxSruu0"
      },
      "execution_count": null,
      "outputs": []
    },
    {
      "cell_type": "markdown",
      "source": [
        "## Load Data"
      ],
      "metadata": {
        "id": "jEwZV1ZcrzNs"
      }
    },
    {
      "cell_type": "code",
      "source": [
        "import json\n",
        "\n",
        "def load_data_from_json(filepath):\n",
        "  \"\"\"Loads data from a JSON file.\n",
        "\n",
        "  Args:\n",
        "    filepath: The path to the JSON file.\n",
        "\n",
        "  Returns:\n",
        "    A dictionary containing the data loaded from the JSON file,\n",
        "    or None if an error occurs.\n",
        "  \"\"\"\n",
        "  try:\n",
        "    with open(filepath, 'r') as file:\n",
        "      data = json.load(file)\n",
        "    return data\n",
        "  except FileNotFoundError:\n",
        "    print(f\"Error: File not found at {filepath}\")\n",
        "    return None\n",
        "  except json.JSONDecodeError:\n",
        "    print(f\"Error: Invalid JSON format in {filepath}\")\n",
        "    return None"
      ],
      "metadata": {
        "id": "pL4iQzQrrhQr"
      },
      "execution_count": null,
      "outputs": []
    },
    {
      "cell_type": "code",
      "source": [
        "data = load_data_from_json('/content/drive/MyDrive/CMPE256/CMPE256_Project/dataset/filter_all_t.json')\n",
        "\n",
        "# Check if data is loaded successfully\n",
        "if data:\n",
        "    # Assuming 'train' key contains the desired data\n",
        "    if 'train' in data and isinstance(data['train'], list):\n",
        "        df = pd.DataFrame(data['train'])  # Create DataFrame from 'train' list\n",
        "        print(df.head())\n",
        "    else:\n",
        "        print(\"Error: 'train' key not found or not a list in the JSON data.\")\n",
        "else:\n",
        "    print(\"Error: Data not loaded from JSON file.\")"
      ],
      "metadata": {
        "colab": {
          "base_uri": "https://localhost:8080/"
        },
        "id": "BZsmUuXzsvuS",
        "outputId": "7ddd62ea-3fa1-4724-c35e-c4552cf85447"
      },
      "execution_count": null,
      "outputs": [
        {
          "output_type": "stream",
          "name": "stdout",
          "text": [
            "                business_id                user_id  rating  \\\n",
            "0  60567465d335d0abfb415b26  101074926318992653684       4   \n",
            "1  6050fa9f5b4ccec8d5cae994  117065749986299237881       5   \n",
            "2  604be10877e81aaed3cc9a1e  106700937793048450809       4   \n",
            "3  60411e017cd8bf130362365a  101643045857250355161       5   \n",
            "4  604139dd7cd8bf1303624208  109802745326785766951       4   \n",
            "\n",
            "                                         review_text  \\\n",
            "0  The tang of the tomato sauce is outstanding. A...   \n",
            "1              Chicken and waffles were really good!   \n",
            "2  The appetizer of colossal shrimp was very good...   \n",
            "3  The fish tacos here  omg! The salad was great ...   \n",
            "4  Ribs are great, as are the mac and cheese, fri...   \n",
            "\n",
            "                                                pics  \\\n",
            "0  [AF1QipM-2IRmvitARbcJr7deWfe5hyVBg_ArPMQSYvq0,...   \n",
            "1     [AF1QipMpfxIZUT_aymQ3qPGO-QgGYzxbtLZGmHufAp2s]   \n",
            "2  [AF1QipMNnqM5X9sSyZ9pXRZ1jvrURHN9bZhGdzuEXoP8,...   \n",
            "3  [AF1QipM-a6AGGp4Hgk5RD0gY5sDRp5kEfB1hZLvlRkft,...   \n",
            "4     [AF1QipNVys4yq-5w_3EsDdHpSc9ZNb7Nl30Mfb6Y0Gup]   \n",
            "\n",
            "                                     history_reviews  \n",
            "0  [[101074926318992653684_6056272797d555cc6fb0d1...  \n",
            "1  [[117065749986299237881_605206f8d8c08f462b93e8...  \n",
            "2  [[106700937793048450809_6044300b27f39b7b5d1dbf...  \n",
            "3  [[101643045857250355161_604fbdd099686c10168c91...  \n",
            "4  [[109802745326785766951_60524fa9f09a4ffff042f9...  \n"
          ]
        }
      ]
    },
    {
      "cell_type": "code",
      "source": [
        "df.keys()"
      ],
      "metadata": {
        "colab": {
          "base_uri": "https://localhost:8080/"
        },
        "id": "kq3Ge4FksxYa",
        "outputId": "3b384392-20ef-41c2-ca77-a82832d743eb"
      },
      "execution_count": null,
      "outputs": [
        {
          "output_type": "execute_result",
          "data": {
            "text/plain": [
              "Index(['business_id', 'user_id', 'rating', 'review_text', 'pics',\n",
              "       'history_reviews'],\n",
              "      dtype='object')"
            ]
          },
          "metadata": {},
          "execution_count": 5
        }
      ]
    },
    {
      "cell_type": "code",
      "source": [
        "max_rating = df['rating'].max()\n",
        "print(f\"The maximum rating in the dataset is: {max_rating}\")"
      ],
      "metadata": {
        "colab": {
          "base_uri": "https://localhost:8080/"
        },
        "id": "VNN0MDUBtRrO",
        "outputId": "d8dd7e41-944d-4b9b-c6ff-33f9de616fb2"
      },
      "execution_count": null,
      "outputs": [
        {
          "output_type": "stream",
          "name": "stdout",
          "text": [
            "The maximum rating in the dataset is: 5\n"
          ]
        }
      ]
    },
    {
      "cell_type": "code",
      "source": [
        "min_rating = df['rating'].min()\n",
        "print(f\"The minimum rating in the dataset is: {min_rating}\")"
      ],
      "metadata": {
        "colab": {
          "base_uri": "https://localhost:8080/"
        },
        "id": "Juu9pfu1tViE",
        "outputId": "536e6599-4397-41e6-9b93-6574eac5f423"
      },
      "execution_count": null,
      "outputs": [
        {
          "output_type": "stream",
          "name": "stdout",
          "text": [
            "The minimum rating in the dataset is: 1\n"
          ]
        }
      ]
    },
    {
      "cell_type": "code",
      "source": [
        "unique_user_ids = df['user_id'].nunique()\n",
        "total_user_ids = len(df['user_id'])\n",
        "print(f\"Total number of User IDs: {total_user_ids}\")\n",
        "print(f\"Number of unique User IDs: {unique_user_ids}\")"
      ],
      "metadata": {
        "colab": {
          "base_uri": "https://localhost:8080/"
        },
        "id": "YQjBxTottXfo",
        "outputId": "ad058dc8-f3f3-4040-d0a3-92ed97ed9b86"
      },
      "execution_count": null,
      "outputs": [
        {
          "output_type": "stream",
          "name": "stdout",
          "text": [
            "Total number of User IDs: 87013\n",
            "Number of unique User IDs: 29596\n"
          ]
        }
      ]
    },
    {
      "cell_type": "code",
      "source": [
        "unique_business_ids = df['business_id'].nunique()\n",
        "total_business_ids = len(df['business_id'])\n",
        "print(f\"Total number of Business IDs: {total_business_ids}\")\n",
        "print(f\"Number of unique Business IDs: {unique_business_ids}\")"
      ],
      "metadata": {
        "colab": {
          "base_uri": "https://localhost:8080/"
        },
        "id": "EY18DSKjtb5F",
        "outputId": "f15e652b-cd57-43ed-ff5e-00bf6012a46b"
      },
      "execution_count": null,
      "outputs": [
        {
          "output_type": "stream",
          "name": "stdout",
          "text": [
            "Total number of Business IDs: 87013\n",
            "Number of unique Business IDs: 27896\n"
          ]
        }
      ]
    },
    {
      "cell_type": "markdown",
      "source": [
        "## User-Based Collaborative Filtering"
      ],
      "metadata": {
        "id": "SNXcamKPtt6o"
      }
    },
    {
      "cell_type": "code",
      "source": [
        "from collections import defaultdict"
      ],
      "metadata": {
        "id": "G_pANaVJOZZ-"
      },
      "execution_count": null,
      "outputs": []
    },
    {
      "cell_type": "code",
      "source": [
        "usersPerItem = defaultdict(set)  # Maps an item to the users who rated it (business profile)\n",
        "itemsPerUser = defaultdict(set)  # Maps a user to the items that they rated (user profile)\n",
        "\n",
        "ratingDict = {}\n",
        "\n",
        "for index, row in df.iterrows():\n",
        "    user, item = row['user_id'], row['business_id']\n",
        "    usersPerItem[item].add(user)\n",
        "    itemsPerUser[user].add(item)\n",
        "    ratingDict[(user, item)] = row['rating']"
      ],
      "metadata": {
        "id": "ociep8rB2LFo"
      },
      "execution_count": null,
      "outputs": []
    },
    {
      "cell_type": "code",
      "source": [
        "userAverages = {}\n",
        "itemAverages = {}\n",
        "\n",
        "for u in itemsPerUser:\n",
        "    rs = [ratingDict[(u, i)] for i in itemsPerUser[u]]\n",
        "    userAverages[u] = sum(rs) / len(rs)\n",
        "\n",
        "for i in usersPerItem:\n",
        "    rs = [ratingDict[(u, i)] for u in usersPerItem[i]]\n",
        "    itemAverages[i] = sum(rs) / len(rs)"
      ],
      "metadata": {
        "id": "ciKyZywu2nRz"
      },
      "execution_count": null,
      "outputs": []
    },
    {
      "cell_type": "code",
      "source": [
        "def Jaccard(s1, s2):\n",
        "    numer = len(s1.intersection(s2))\n",
        "    denom = len(s1.union(s2))\n",
        "    if denom == 0:\n",
        "        return 0\n",
        "    return numer / denom"
      ],
      "metadata": {
        "id": "ZexjuVgR2nMl"
      },
      "execution_count": null,
      "outputs": []
    },
    {
      "cell_type": "code",
      "source": [
        "def mostSimilar(i, N):\n",
        "    similarities = []\n",
        "    users = usersPerItem[i]  #find all users who purchased i\n",
        "    for i2 in usersPerItem:  #iterate  over all other items (profiles) and compute their similarity to i in terms of common users\n",
        "        if i2 == i:\n",
        "            continue\n",
        "        sim = Jaccard(users, usersPerItem[i2])\n",
        "        #sim = Pearson(i, i2) # Could use alternate similarity metrics straightforwardly\n",
        "        similarities.append((sim, i2))\n",
        "    similarities.sort(reverse=True)\n",
        "    return similarities[:N]"
      ],
      "metadata": {
        "id": "8_60n5Oo2tE3"
      },
      "execution_count": null,
      "outputs": []
    },
    {
      "cell_type": "code",
      "source": [
        "reviewsPerUser = defaultdict(list)\n",
        "reviewsPerItem = defaultdict(list)\n",
        "\n",
        "for index, d in df.iterrows():\n",
        "    user, item = d['user_id'], d['business_id']\n",
        "    reviewsPerUser[user].append(d)\n",
        "    reviewsPerItem[item].append(d)"
      ],
      "metadata": {
        "id": "p2mvwRjp2tnP"
      },
      "execution_count": null,
      "outputs": []
    },
    {
      "cell_type": "code",
      "source": [
        "ratingMean = sum([d['rating'] for _, d in df.iterrows()]) / len(df['business_id'])\n",
        "print(ratingMean)"
      ],
      "metadata": {
        "colab": {
          "base_uri": "https://localhost:8080/"
        },
        "id": "xMSO3ugh2vu_",
        "outputId": "2aeebce5-1031-45d7-dcd7-b14845d77aa7"
      },
      "execution_count": null,
      "outputs": [
        {
          "output_type": "stream",
          "name": "stdout",
          "text": [
            "4.465252318619057\n"
          ]
        }
      ]
    },
    {
      "cell_type": "code",
      "source": [
        "def predictRating(user, item):\n",
        "    ratings = []\n",
        "    similarities = []\n",
        "    for d in reviewsPerUser[user]:\n",
        "        i2 = d['business_id']\n",
        "        if i2 == item:\n",
        "            continue\n",
        "        ratings.append(d['rating']) #rating of user for item i2\n",
        "        similarities.append(Jaccard(usersPerItem[item], usersPerItem[i2])) #similarity of item i2 to item for which we want to predict\n",
        "    if (sum(similarities) > 0):\n",
        "        weightedRatings = [(x*y) for x, y in zip(ratings, similarities)] #weighted ratings\n",
        "        return sum(weightedRatings) / sum(similarities) #weighted average\n",
        "    else:\n",
        "        # User hasn't rated any similar items\n",
        "        return ratingMean"
      ],
      "metadata": {
        "id": "GvurxKdm2xZE"
      },
      "execution_count": null,
      "outputs": []
    },
    {
      "cell_type": "code",
      "source": [
        "import math"
      ],
      "metadata": {
        "id": "YOeRu9TGOqbU"
      },
      "execution_count": null,
      "outputs": []
    },
    {
      "cell_type": "code",
      "source": [
        "def RMSE(predictions, labels):\n",
        "    differences = [(x-y)**2 for x, y in zip(predictions, labels)]\n",
        "    return math.sqrt(sum(differences) / len(differences))"
      ],
      "metadata": {
        "id": "jZb1SnaH2xVv"
      },
      "execution_count": null,
      "outputs": []
    },
    {
      "cell_type": "code",
      "source": [
        "simPredictions = [predictRating(\n",
        "    d['user_id'], d['business_id']) for _, d in df.iterrows()]"
      ],
      "metadata": {
        "id": "SsC6Bxrw28aN"
      },
      "execution_count": null,
      "outputs": []
    },
    {
      "cell_type": "code",
      "source": [
        "labels = [d['rating'] for _, d in df.iterrows()]"
      ],
      "metadata": {
        "id": "oAtyIs-t2_vp"
      },
      "execution_count": null,
      "outputs": []
    },
    {
      "cell_type": "code",
      "source": [
        "RMSE(simPredictions, labels)"
      ],
      "metadata": {
        "colab": {
          "base_uri": "https://localhost:8080/"
        },
        "id": "QWi-abJ23A49",
        "outputId": "6a2f6137-73dc-44a1-d673-01216e88f652"
      },
      "execution_count": null,
      "outputs": [
        {
          "output_type": "execute_result",
          "data": {
            "text/plain": [
              "0.9466303143791958"
            ]
          },
          "metadata": {},
          "execution_count": 21
        }
      ]
    },
    {
      "cell_type": "code",
      "source": [
        "from sklearn.model_selection import KFold\n",
        "\n",
        "# Prepare data\n",
        "labels = [d['rating'] for _, d in df.iterrows()]\n",
        "user_ids = [d['user_id'] for _, d in df.iterrows()]\n",
        "business_ids = [d['business_id'] for _, d in df.iterrows()]\n",
        "\n",
        "# Define the number of folds for cross-validation\n",
        "n_splits = 5\n",
        "kf = KFold(n_splits=n_splits, shuffle=True, random_state=42)  # Set random_state for reproducibility\n",
        "\n",
        "rmse_scores = []\n",
        "\n",
        "for train_index, test_index in kf.split(df):\n",
        "    # Split data into training and testing sets for the current fold\n",
        "    X_train_user = [user_ids[i] for i in train_index]\n",
        "    X_train_business = [business_ids[i] for i in train_index]\n",
        "    y_train = [labels[i] for i in train_index]\n",
        "\n",
        "    X_test_user = [user_ids[i] for i in test_index]\n",
        "    X_test_business = [business_ids[i] for i in test_index]\n",
        "    y_test = [labels[i] for i in test_index]\n",
        "\n",
        "    # Make predictions on the test set\n",
        "    simPredictions = [predictRating(user, item) for user, item in zip(X_test_user, X_test_business)]\n",
        "\n",
        "    # Calculate RMSE for the current fold\n",
        "    rmse = RMSE(simPredictions, y_test)\n",
        "    rmse_scores.append(rmse)\n",
        "    print(f\"RMSE across {n_splits} folds: {rmse}\")\n",
        "\n",
        "# Calculate and print the average RMSE across all folds\n",
        "avg_rmse = sum(rmse_scores) / len(rmse_scores)\n",
        "print(f\"Average RMSE across {n_splits} folds: {avg_rmse}\")"
      ],
      "metadata": {
        "colab": {
          "base_uri": "https://localhost:8080/"
        },
        "id": "M5s97zsZFIzh",
        "outputId": "5246cbbe-cccc-4f0b-be7f-a638ad7854d7"
      },
      "execution_count": null,
      "outputs": [
        {
          "output_type": "stream",
          "name": "stdout",
          "text": [
            "RMSE across 5 folds: 0.9357265073460367\n",
            "RMSE across 5 folds: 0.9387091796351489\n",
            "RMSE across 5 folds: 0.9502386908357878\n",
            "RMSE across 5 folds: 0.9565611331390061\n",
            "RMSE across 5 folds: 0.9517481879901714\n",
            "Average RMSE across 5 folds: 0.9465967397892301\n"
          ]
        }
      ]
    },
    {
      "cell_type": "markdown",
      "source": [
        "## Item-Based Collaborative Filtering\n"
      ],
      "metadata": {
        "id": "CxxMnR0lNepu"
      }
    },
    {
      "cell_type": "code",
      "source": [
        "def JaccardUser(u1, u2):\n",
        "    # compute similarity between two users based on their item sets\n",
        "    numer = len(itemsPerUser[u1].intersection(itemsPerUser[u2]))\n",
        "    denom = len(itemsPerUser[u1].union(itemsPerUser[u2]))\n",
        "    if denom == 0:\n",
        "        return 0\n",
        "    return numer / denom"
      ],
      "metadata": {
        "id": "lXn9sXjuNls2"
      },
      "execution_count": null,
      "outputs": []
    },
    {
      "cell_type": "code",
      "source": [
        "def predictRatingUser(user, item, N=10):\n",
        "    # aggregate ratings from other users who rated this item\n",
        "    ratings = []\n",
        "    similarities = []\n",
        "    for u2 in usersPerItem[item]:\n",
        "        if u2 == user:\n",
        "            continue\n",
        "        ratings.append(ratingDict[(u2, item)])\n",
        "        similarities.append(JaccardUser(user, u2))\n",
        "    if sum(similarities) > 0:\n",
        "        weightedRatings = [r * s for r, s in zip(ratings, similarities)]\n",
        "        return sum(weightedRatings) / sum(similarities)\n",
        "    else:\n",
        "        # fallback to this user's average (or global mean)\n",
        "        return userAverages.get(user, ratingMean)"
      ],
      "metadata": {
        "id": "uZ6y0gq7OiAu"
      },
      "execution_count": null,
      "outputs": []
    },
    {
      "cell_type": "code",
      "source": [
        "# Evaluate user-based CF on all (user,item) pairs\n",
        "userPredictions = [\n",
        "    predictRatingUser(d['user_id'], d['business_id'])\n",
        "    for _, d in df.iterrows()\n",
        "]\n",
        "print(\"Item-based CF RMSE:\", RMSE(userPredictions, labels))"
      ],
      "metadata": {
        "colab": {
          "base_uri": "https://localhost:8080/"
        },
        "id": "YXt_nP8fO-Rj",
        "outputId": "2bc4d1ad-2743-44e1-d14d-19be4f9194ed"
      },
      "execution_count": null,
      "outputs": [
        {
          "output_type": "stream",
          "name": "stdout",
          "text": [
            "Item-based CF RMSE: 0.8902976257225924\n"
          ]
        }
      ]
    },
    {
      "cell_type": "code",
      "source": [
        "# Prepare data\n",
        "labels = [d['rating'] for _, d in df.iterrows()]\n",
        "user_ids = [d['user_id'] for _, d in df.iterrows()]\n",
        "business_ids = [d['business_id'] for _, d in df.iterrows()]\n",
        "\n",
        "# Define the number of folds for cross-validation\n",
        "n_splits = 5\n",
        "kf = KFold(n_splits=n_splits, shuffle=True, random_state=42)  # Set random_state for reproducibility\n",
        "\n",
        "rmse_scores = []\n",
        "\n",
        "for train_index, test_index in kf.split(df):\n",
        "    # Split data into training and testing sets for the current fold\n",
        "    X_train_user = [user_ids[i] for i in train_index]\n",
        "    X_train_business = [business_ids[i] for i in train_index]\n",
        "    y_train = [labels[i] for i in train_index]\n",
        "\n",
        "    X_test_user = [user_ids[i] for i in test_index]\n",
        "    X_test_business = [business_ids[i] for i in test_index]\n",
        "    y_test = [labels[i] for i in test_index]\n",
        "\n",
        "    # Make predictions on the test set\n",
        "    simPredictions = [predictRating(user, item) for user, item in zip(X_test_user, X_test_business)]\n",
        "\n",
        "    # Calculate RMSE for the current fold\n",
        "    rmse = RMSE(simPredictions, y_test)\n",
        "    rmse_scores.append(rmse)\n",
        "    print(f\"RMSE across {n_splits} folds: {rmse}\")\n",
        "\n",
        "# Calculate and print the average RMSE across all folds\n",
        "avg_rmse = sum(rmse_scores) / len(rmse_scores)\n",
        "print(f\"Average RMSE across {n_splits} folds: {avg_rmse}\")"
      ],
      "metadata": {
        "colab": {
          "base_uri": "https://localhost:8080/"
        },
        "id": "HexEPM68Gvvt",
        "outputId": "186a50d1-12cc-4a71-f976-7b4cb4444457"
      },
      "execution_count": null,
      "outputs": [
        {
          "output_type": "stream",
          "name": "stdout",
          "text": [
            "RMSE across 5 folds: 0.9357265073460367\n",
            "RMSE across 5 folds: 0.9387091796351489\n",
            "RMSE across 5 folds: 0.9502386908357878\n",
            "RMSE across 5 folds: 0.9565611331390061\n",
            "RMSE across 5 folds: 0.9517481879901714\n",
            "Average RMSE across 5 folds: 0.9465967397892301\n"
          ]
        }
      ]
    },
    {
      "cell_type": "code",
      "source": [],
      "metadata": {
        "id": "yt77jYaHGvtM"
      },
      "execution_count": null,
      "outputs": []
    }
  ]
}